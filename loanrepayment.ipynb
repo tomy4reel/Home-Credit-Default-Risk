{
 "cells": [
  {
   "cell_type": "markdown",
   "id": "b847bc0d",
   "metadata": {
    "papermill": {
     "duration": 0.010595,
     "end_time": "2022-12-29T10:59:39.734692",
     "exception": false,
     "start_time": "2022-12-29T10:59:39.724097",
     "status": "completed"
    },
    "tags": []
   },
   "source": [
    "- # Import Libraries & Data"
   ]
  },
  {
   "cell_type": "code",
   "execution_count": 1,
   "id": "3a9d2d12",
   "metadata": {
    "execution": {
     "iopub.execute_input": "2022-12-29T10:59:39.758389Z",
     "iopub.status.busy": "2022-12-29T10:59:39.757826Z",
     "iopub.status.idle": "2022-12-29T10:59:39.769231Z",
     "shell.execute_reply": "2022-12-29T10:59:39.768383Z"
    },
    "papermill": {
     "duration": 0.026856,
     "end_time": "2022-12-29T10:59:39.771275",
     "exception": false,
     "start_time": "2022-12-29T10:59:39.744419",
     "status": "completed"
    },
    "tags": []
   },
   "outputs": [],
   "source": [
    "# import libraries\n",
    "import pandas as pd\n",
    "import numpy as np"
   ]
  },
  {
   "cell_type": "code",
   "execution_count": 2,
   "id": "be415026",
   "metadata": {
    "execution": {
     "iopub.execute_input": "2022-12-29T10:59:39.795649Z",
     "iopub.status.busy": "2022-12-29T10:59:39.794134Z",
     "iopub.status.idle": "2022-12-29T10:59:45.191544Z",
     "shell.execute_reply": "2022-12-29T10:59:45.190279Z"
    },
    "papermill": {
     "duration": 5.413338,
     "end_time": "2022-12-29T10:59:45.194609",
     "exception": false,
     "start_time": "2022-12-29T10:59:39.781271",
     "status": "completed"
    },
    "tags": []
   },
   "outputs": [
    {
     "data": {
      "text/html": [
       "<div>\n",
       "<style scoped>\n",
       "    .dataframe tbody tr th:only-of-type {\n",
       "        vertical-align: middle;\n",
       "    }\n",
       "\n",
       "    .dataframe tbody tr th {\n",
       "        vertical-align: top;\n",
       "    }\n",
       "\n",
       "    .dataframe thead th {\n",
       "        text-align: right;\n",
       "    }\n",
       "</style>\n",
       "<table border=\"1\" class=\"dataframe\">\n",
       "  <thead>\n",
       "    <tr style=\"text-align: right;\">\n",
       "      <th></th>\n",
       "      <th>SK_ID_CURR</th>\n",
       "      <th>TARGET</th>\n",
       "      <th>NAME_CONTRACT_TYPE</th>\n",
       "      <th>CODE_GENDER</th>\n",
       "      <th>FLAG_OWN_CAR</th>\n",
       "      <th>FLAG_OWN_REALTY</th>\n",
       "      <th>CNT_CHILDREN</th>\n",
       "      <th>AMT_INCOME_TOTAL</th>\n",
       "      <th>AMT_CREDIT</th>\n",
       "      <th>AMT_ANNUITY</th>\n",
       "      <th>...</th>\n",
       "      <th>FLAG_DOCUMENT_18</th>\n",
       "      <th>FLAG_DOCUMENT_19</th>\n",
       "      <th>FLAG_DOCUMENT_20</th>\n",
       "      <th>FLAG_DOCUMENT_21</th>\n",
       "      <th>AMT_REQ_CREDIT_BUREAU_HOUR</th>\n",
       "      <th>AMT_REQ_CREDIT_BUREAU_DAY</th>\n",
       "      <th>AMT_REQ_CREDIT_BUREAU_WEEK</th>\n",
       "      <th>AMT_REQ_CREDIT_BUREAU_MON</th>\n",
       "      <th>AMT_REQ_CREDIT_BUREAU_QRT</th>\n",
       "      <th>AMT_REQ_CREDIT_BUREAU_YEAR</th>\n",
       "    </tr>\n",
       "  </thead>\n",
       "  <tbody>\n",
       "    <tr>\n",
       "      <th>0</th>\n",
       "      <td>100002</td>\n",
       "      <td>1</td>\n",
       "      <td>Cash loans</td>\n",
       "      <td>M</td>\n",
       "      <td>N</td>\n",
       "      <td>Y</td>\n",
       "      <td>0</td>\n",
       "      <td>202500.0</td>\n",
       "      <td>406597.5</td>\n",
       "      <td>24700.5</td>\n",
       "      <td>...</td>\n",
       "      <td>0</td>\n",
       "      <td>0</td>\n",
       "      <td>0</td>\n",
       "      <td>0</td>\n",
       "      <td>0.0</td>\n",
       "      <td>0.0</td>\n",
       "      <td>0.0</td>\n",
       "      <td>0.0</td>\n",
       "      <td>0.0</td>\n",
       "      <td>1.0</td>\n",
       "    </tr>\n",
       "    <tr>\n",
       "      <th>1</th>\n",
       "      <td>100003</td>\n",
       "      <td>0</td>\n",
       "      <td>Cash loans</td>\n",
       "      <td>F</td>\n",
       "      <td>N</td>\n",
       "      <td>N</td>\n",
       "      <td>0</td>\n",
       "      <td>270000.0</td>\n",
       "      <td>1293502.5</td>\n",
       "      <td>35698.5</td>\n",
       "      <td>...</td>\n",
       "      <td>0</td>\n",
       "      <td>0</td>\n",
       "      <td>0</td>\n",
       "      <td>0</td>\n",
       "      <td>0.0</td>\n",
       "      <td>0.0</td>\n",
       "      <td>0.0</td>\n",
       "      <td>0.0</td>\n",
       "      <td>0.0</td>\n",
       "      <td>0.0</td>\n",
       "    </tr>\n",
       "    <tr>\n",
       "      <th>2</th>\n",
       "      <td>100004</td>\n",
       "      <td>0</td>\n",
       "      <td>Revolving loans</td>\n",
       "      <td>M</td>\n",
       "      <td>Y</td>\n",
       "      <td>Y</td>\n",
       "      <td>0</td>\n",
       "      <td>67500.0</td>\n",
       "      <td>135000.0</td>\n",
       "      <td>6750.0</td>\n",
       "      <td>...</td>\n",
       "      <td>0</td>\n",
       "      <td>0</td>\n",
       "      <td>0</td>\n",
       "      <td>0</td>\n",
       "      <td>0.0</td>\n",
       "      <td>0.0</td>\n",
       "      <td>0.0</td>\n",
       "      <td>0.0</td>\n",
       "      <td>0.0</td>\n",
       "      <td>0.0</td>\n",
       "    </tr>\n",
       "    <tr>\n",
       "      <th>3</th>\n",
       "      <td>100006</td>\n",
       "      <td>0</td>\n",
       "      <td>Cash loans</td>\n",
       "      <td>F</td>\n",
       "      <td>N</td>\n",
       "      <td>Y</td>\n",
       "      <td>0</td>\n",
       "      <td>135000.0</td>\n",
       "      <td>312682.5</td>\n",
       "      <td>29686.5</td>\n",
       "      <td>...</td>\n",
       "      <td>0</td>\n",
       "      <td>0</td>\n",
       "      <td>0</td>\n",
       "      <td>0</td>\n",
       "      <td>NaN</td>\n",
       "      <td>NaN</td>\n",
       "      <td>NaN</td>\n",
       "      <td>NaN</td>\n",
       "      <td>NaN</td>\n",
       "      <td>NaN</td>\n",
       "    </tr>\n",
       "    <tr>\n",
       "      <th>4</th>\n",
       "      <td>100007</td>\n",
       "      <td>0</td>\n",
       "      <td>Cash loans</td>\n",
       "      <td>M</td>\n",
       "      <td>N</td>\n",
       "      <td>Y</td>\n",
       "      <td>0</td>\n",
       "      <td>121500.0</td>\n",
       "      <td>513000.0</td>\n",
       "      <td>21865.5</td>\n",
       "      <td>...</td>\n",
       "      <td>0</td>\n",
       "      <td>0</td>\n",
       "      <td>0</td>\n",
       "      <td>0</td>\n",
       "      <td>0.0</td>\n",
       "      <td>0.0</td>\n",
       "      <td>0.0</td>\n",
       "      <td>0.0</td>\n",
       "      <td>0.0</td>\n",
       "      <td>0.0</td>\n",
       "    </tr>\n",
       "    <tr>\n",
       "      <th>...</th>\n",
       "      <td>...</td>\n",
       "      <td>...</td>\n",
       "      <td>...</td>\n",
       "      <td>...</td>\n",
       "      <td>...</td>\n",
       "      <td>...</td>\n",
       "      <td>...</td>\n",
       "      <td>...</td>\n",
       "      <td>...</td>\n",
       "      <td>...</td>\n",
       "      <td>...</td>\n",
       "      <td>...</td>\n",
       "      <td>...</td>\n",
       "      <td>...</td>\n",
       "      <td>...</td>\n",
       "      <td>...</td>\n",
       "      <td>...</td>\n",
       "      <td>...</td>\n",
       "      <td>...</td>\n",
       "      <td>...</td>\n",
       "      <td>...</td>\n",
       "    </tr>\n",
       "    <tr>\n",
       "      <th>307506</th>\n",
       "      <td>456251</td>\n",
       "      <td>0</td>\n",
       "      <td>Cash loans</td>\n",
       "      <td>M</td>\n",
       "      <td>N</td>\n",
       "      <td>N</td>\n",
       "      <td>0</td>\n",
       "      <td>157500.0</td>\n",
       "      <td>254700.0</td>\n",
       "      <td>27558.0</td>\n",
       "      <td>...</td>\n",
       "      <td>0</td>\n",
       "      <td>0</td>\n",
       "      <td>0</td>\n",
       "      <td>0</td>\n",
       "      <td>NaN</td>\n",
       "      <td>NaN</td>\n",
       "      <td>NaN</td>\n",
       "      <td>NaN</td>\n",
       "      <td>NaN</td>\n",
       "      <td>NaN</td>\n",
       "    </tr>\n",
       "    <tr>\n",
       "      <th>307507</th>\n",
       "      <td>456252</td>\n",
       "      <td>0</td>\n",
       "      <td>Cash loans</td>\n",
       "      <td>F</td>\n",
       "      <td>N</td>\n",
       "      <td>Y</td>\n",
       "      <td>0</td>\n",
       "      <td>72000.0</td>\n",
       "      <td>269550.0</td>\n",
       "      <td>12001.5</td>\n",
       "      <td>...</td>\n",
       "      <td>0</td>\n",
       "      <td>0</td>\n",
       "      <td>0</td>\n",
       "      <td>0</td>\n",
       "      <td>NaN</td>\n",
       "      <td>NaN</td>\n",
       "      <td>NaN</td>\n",
       "      <td>NaN</td>\n",
       "      <td>NaN</td>\n",
       "      <td>NaN</td>\n",
       "    </tr>\n",
       "    <tr>\n",
       "      <th>307508</th>\n",
       "      <td>456253</td>\n",
       "      <td>0</td>\n",
       "      <td>Cash loans</td>\n",
       "      <td>F</td>\n",
       "      <td>N</td>\n",
       "      <td>Y</td>\n",
       "      <td>0</td>\n",
       "      <td>153000.0</td>\n",
       "      <td>677664.0</td>\n",
       "      <td>29979.0</td>\n",
       "      <td>...</td>\n",
       "      <td>0</td>\n",
       "      <td>0</td>\n",
       "      <td>0</td>\n",
       "      <td>0</td>\n",
       "      <td>1.0</td>\n",
       "      <td>0.0</td>\n",
       "      <td>0.0</td>\n",
       "      <td>1.0</td>\n",
       "      <td>0.0</td>\n",
       "      <td>1.0</td>\n",
       "    </tr>\n",
       "    <tr>\n",
       "      <th>307509</th>\n",
       "      <td>456254</td>\n",
       "      <td>1</td>\n",
       "      <td>Cash loans</td>\n",
       "      <td>F</td>\n",
       "      <td>N</td>\n",
       "      <td>Y</td>\n",
       "      <td>0</td>\n",
       "      <td>171000.0</td>\n",
       "      <td>370107.0</td>\n",
       "      <td>20205.0</td>\n",
       "      <td>...</td>\n",
       "      <td>0</td>\n",
       "      <td>0</td>\n",
       "      <td>0</td>\n",
       "      <td>0</td>\n",
       "      <td>0.0</td>\n",
       "      <td>0.0</td>\n",
       "      <td>0.0</td>\n",
       "      <td>0.0</td>\n",
       "      <td>0.0</td>\n",
       "      <td>0.0</td>\n",
       "    </tr>\n",
       "    <tr>\n",
       "      <th>307510</th>\n",
       "      <td>456255</td>\n",
       "      <td>0</td>\n",
       "      <td>Cash loans</td>\n",
       "      <td>F</td>\n",
       "      <td>N</td>\n",
       "      <td>N</td>\n",
       "      <td>0</td>\n",
       "      <td>157500.0</td>\n",
       "      <td>675000.0</td>\n",
       "      <td>49117.5</td>\n",
       "      <td>...</td>\n",
       "      <td>0</td>\n",
       "      <td>0</td>\n",
       "      <td>0</td>\n",
       "      <td>0</td>\n",
       "      <td>0.0</td>\n",
       "      <td>0.0</td>\n",
       "      <td>0.0</td>\n",
       "      <td>2.0</td>\n",
       "      <td>0.0</td>\n",
       "      <td>1.0</td>\n",
       "    </tr>\n",
       "  </tbody>\n",
       "</table>\n",
       "<p>307511 rows × 122 columns</p>\n",
       "</div>"
      ],
      "text/plain": [
       "        SK_ID_CURR  TARGET NAME_CONTRACT_TYPE CODE_GENDER FLAG_OWN_CAR  \\\n",
       "0           100002       1         Cash loans           M            N   \n",
       "1           100003       0         Cash loans           F            N   \n",
       "2           100004       0    Revolving loans           M            Y   \n",
       "3           100006       0         Cash loans           F            N   \n",
       "4           100007       0         Cash loans           M            N   \n",
       "...            ...     ...                ...         ...          ...   \n",
       "307506      456251       0         Cash loans           M            N   \n",
       "307507      456252       0         Cash loans           F            N   \n",
       "307508      456253       0         Cash loans           F            N   \n",
       "307509      456254       1         Cash loans           F            N   \n",
       "307510      456255       0         Cash loans           F            N   \n",
       "\n",
       "       FLAG_OWN_REALTY  CNT_CHILDREN  AMT_INCOME_TOTAL  AMT_CREDIT  \\\n",
       "0                    Y             0          202500.0    406597.5   \n",
       "1                    N             0          270000.0   1293502.5   \n",
       "2                    Y             0           67500.0    135000.0   \n",
       "3                    Y             0          135000.0    312682.5   \n",
       "4                    Y             0          121500.0    513000.0   \n",
       "...                ...           ...               ...         ...   \n",
       "307506               N             0          157500.0    254700.0   \n",
       "307507               Y             0           72000.0    269550.0   \n",
       "307508               Y             0          153000.0    677664.0   \n",
       "307509               Y             0          171000.0    370107.0   \n",
       "307510               N             0          157500.0    675000.0   \n",
       "\n",
       "        AMT_ANNUITY  ...  FLAG_DOCUMENT_18 FLAG_DOCUMENT_19 FLAG_DOCUMENT_20  \\\n",
       "0           24700.5  ...                 0                0                0   \n",
       "1           35698.5  ...                 0                0                0   \n",
       "2            6750.0  ...                 0                0                0   \n",
       "3           29686.5  ...                 0                0                0   \n",
       "4           21865.5  ...                 0                0                0   \n",
       "...             ...  ...               ...              ...              ...   \n",
       "307506      27558.0  ...                 0                0                0   \n",
       "307507      12001.5  ...                 0                0                0   \n",
       "307508      29979.0  ...                 0                0                0   \n",
       "307509      20205.0  ...                 0                0                0   \n",
       "307510      49117.5  ...                 0                0                0   \n",
       "\n",
       "       FLAG_DOCUMENT_21 AMT_REQ_CREDIT_BUREAU_HOUR AMT_REQ_CREDIT_BUREAU_DAY  \\\n",
       "0                     0                        0.0                       0.0   \n",
       "1                     0                        0.0                       0.0   \n",
       "2                     0                        0.0                       0.0   \n",
       "3                     0                        NaN                       NaN   \n",
       "4                     0                        0.0                       0.0   \n",
       "...                 ...                        ...                       ...   \n",
       "307506                0                        NaN                       NaN   \n",
       "307507                0                        NaN                       NaN   \n",
       "307508                0                        1.0                       0.0   \n",
       "307509                0                        0.0                       0.0   \n",
       "307510                0                        0.0                       0.0   \n",
       "\n",
       "        AMT_REQ_CREDIT_BUREAU_WEEK  AMT_REQ_CREDIT_BUREAU_MON  \\\n",
       "0                              0.0                        0.0   \n",
       "1                              0.0                        0.0   \n",
       "2                              0.0                        0.0   \n",
       "3                              NaN                        NaN   \n",
       "4                              0.0                        0.0   \n",
       "...                            ...                        ...   \n",
       "307506                         NaN                        NaN   \n",
       "307507                         NaN                        NaN   \n",
       "307508                         0.0                        1.0   \n",
       "307509                         0.0                        0.0   \n",
       "307510                         0.0                        2.0   \n",
       "\n",
       "        AMT_REQ_CREDIT_BUREAU_QRT  AMT_REQ_CREDIT_BUREAU_YEAR  \n",
       "0                             0.0                         1.0  \n",
       "1                             0.0                         0.0  \n",
       "2                             0.0                         0.0  \n",
       "3                             NaN                         NaN  \n",
       "4                             0.0                         0.0  \n",
       "...                           ...                         ...  \n",
       "307506                        NaN                         NaN  \n",
       "307507                        NaN                         NaN  \n",
       "307508                        0.0                         1.0  \n",
       "307509                        0.0                         0.0  \n",
       "307510                        0.0                         1.0  \n",
       "\n",
       "[307511 rows x 122 columns]"
      ]
     },
     "execution_count": 2,
     "metadata": {},
     "output_type": "execute_result"
    }
   ],
   "source": [
    "# Load data\n",
    "application_train = pd.read_csv('../input/home-credit-default-risk/application_train.csv')\n",
    "application_train"
   ]
  },
  {
   "cell_type": "code",
   "execution_count": 3,
   "id": "6adf08f3",
   "metadata": {
    "execution": {
     "iopub.execute_input": "2022-12-29T10:59:45.218288Z",
     "iopub.status.busy": "2022-12-29T10:59:45.217868Z",
     "iopub.status.idle": "2022-12-29T10:59:57.831013Z",
     "shell.execute_reply": "2022-12-29T10:59:57.830308Z"
    },
    "papermill": {
     "duration": 12.627452,
     "end_time": "2022-12-29T10:59:57.833304",
     "exception": false,
     "start_time": "2022-12-29T10:59:45.205852",
     "status": "completed"
    },
    "tags": []
   },
   "outputs": [
    {
     "data": {
      "text/html": [
       "<div>\n",
       "<style scoped>\n",
       "    .dataframe tbody tr th:only-of-type {\n",
       "        vertical-align: middle;\n",
       "    }\n",
       "\n",
       "    .dataframe tbody tr th {\n",
       "        vertical-align: top;\n",
       "    }\n",
       "\n",
       "    .dataframe thead th {\n",
       "        text-align: right;\n",
       "    }\n",
       "</style>\n",
       "<table border=\"1\" class=\"dataframe\">\n",
       "  <thead>\n",
       "    <tr style=\"text-align: right;\">\n",
       "      <th></th>\n",
       "      <th>SK_ID_PREV</th>\n",
       "      <th>SK_ID_CURR</th>\n",
       "      <th>NAME_CONTRACT_TYPE</th>\n",
       "      <th>AMT_ANNUITY</th>\n",
       "      <th>AMT_APPLICATION</th>\n",
       "      <th>AMT_CREDIT</th>\n",
       "      <th>AMT_DOWN_PAYMENT</th>\n",
       "      <th>AMT_GOODS_PRICE</th>\n",
       "      <th>WEEKDAY_APPR_PROCESS_START</th>\n",
       "      <th>HOUR_APPR_PROCESS_START</th>\n",
       "      <th>...</th>\n",
       "      <th>NAME_SELLER_INDUSTRY</th>\n",
       "      <th>CNT_PAYMENT</th>\n",
       "      <th>NAME_YIELD_GROUP</th>\n",
       "      <th>PRODUCT_COMBINATION</th>\n",
       "      <th>DAYS_FIRST_DRAWING</th>\n",
       "      <th>DAYS_FIRST_DUE</th>\n",
       "      <th>DAYS_LAST_DUE_1ST_VERSION</th>\n",
       "      <th>DAYS_LAST_DUE</th>\n",
       "      <th>DAYS_TERMINATION</th>\n",
       "      <th>NFLAG_INSURED_ON_APPROVAL</th>\n",
       "    </tr>\n",
       "  </thead>\n",
       "  <tbody>\n",
       "    <tr>\n",
       "      <th>0</th>\n",
       "      <td>2030495</td>\n",
       "      <td>271877</td>\n",
       "      <td>Consumer loans</td>\n",
       "      <td>1730.430</td>\n",
       "      <td>17145.0</td>\n",
       "      <td>17145.0</td>\n",
       "      <td>0.0</td>\n",
       "      <td>17145.0</td>\n",
       "      <td>SATURDAY</td>\n",
       "      <td>15</td>\n",
       "      <td>...</td>\n",
       "      <td>Connectivity</td>\n",
       "      <td>12.0</td>\n",
       "      <td>middle</td>\n",
       "      <td>POS mobile with interest</td>\n",
       "      <td>365243.0</td>\n",
       "      <td>-42.0</td>\n",
       "      <td>300.0</td>\n",
       "      <td>-42.0</td>\n",
       "      <td>-37.0</td>\n",
       "      <td>0.0</td>\n",
       "    </tr>\n",
       "    <tr>\n",
       "      <th>1</th>\n",
       "      <td>2802425</td>\n",
       "      <td>108129</td>\n",
       "      <td>Cash loans</td>\n",
       "      <td>25188.615</td>\n",
       "      <td>607500.0</td>\n",
       "      <td>679671.0</td>\n",
       "      <td>NaN</td>\n",
       "      <td>607500.0</td>\n",
       "      <td>THURSDAY</td>\n",
       "      <td>11</td>\n",
       "      <td>...</td>\n",
       "      <td>XNA</td>\n",
       "      <td>36.0</td>\n",
       "      <td>low_action</td>\n",
       "      <td>Cash X-Sell: low</td>\n",
       "      <td>365243.0</td>\n",
       "      <td>-134.0</td>\n",
       "      <td>916.0</td>\n",
       "      <td>365243.0</td>\n",
       "      <td>365243.0</td>\n",
       "      <td>1.0</td>\n",
       "    </tr>\n",
       "    <tr>\n",
       "      <th>2</th>\n",
       "      <td>2523466</td>\n",
       "      <td>122040</td>\n",
       "      <td>Cash loans</td>\n",
       "      <td>15060.735</td>\n",
       "      <td>112500.0</td>\n",
       "      <td>136444.5</td>\n",
       "      <td>NaN</td>\n",
       "      <td>112500.0</td>\n",
       "      <td>TUESDAY</td>\n",
       "      <td>11</td>\n",
       "      <td>...</td>\n",
       "      <td>XNA</td>\n",
       "      <td>12.0</td>\n",
       "      <td>high</td>\n",
       "      <td>Cash X-Sell: high</td>\n",
       "      <td>365243.0</td>\n",
       "      <td>-271.0</td>\n",
       "      <td>59.0</td>\n",
       "      <td>365243.0</td>\n",
       "      <td>365243.0</td>\n",
       "      <td>1.0</td>\n",
       "    </tr>\n",
       "    <tr>\n",
       "      <th>3</th>\n",
       "      <td>2819243</td>\n",
       "      <td>176158</td>\n",
       "      <td>Cash loans</td>\n",
       "      <td>47041.335</td>\n",
       "      <td>450000.0</td>\n",
       "      <td>470790.0</td>\n",
       "      <td>NaN</td>\n",
       "      <td>450000.0</td>\n",
       "      <td>MONDAY</td>\n",
       "      <td>7</td>\n",
       "      <td>...</td>\n",
       "      <td>XNA</td>\n",
       "      <td>12.0</td>\n",
       "      <td>middle</td>\n",
       "      <td>Cash X-Sell: middle</td>\n",
       "      <td>365243.0</td>\n",
       "      <td>-482.0</td>\n",
       "      <td>-152.0</td>\n",
       "      <td>-182.0</td>\n",
       "      <td>-177.0</td>\n",
       "      <td>1.0</td>\n",
       "    </tr>\n",
       "    <tr>\n",
       "      <th>4</th>\n",
       "      <td>1784265</td>\n",
       "      <td>202054</td>\n",
       "      <td>Cash loans</td>\n",
       "      <td>31924.395</td>\n",
       "      <td>337500.0</td>\n",
       "      <td>404055.0</td>\n",
       "      <td>NaN</td>\n",
       "      <td>337500.0</td>\n",
       "      <td>THURSDAY</td>\n",
       "      <td>9</td>\n",
       "      <td>...</td>\n",
       "      <td>XNA</td>\n",
       "      <td>24.0</td>\n",
       "      <td>high</td>\n",
       "      <td>Cash Street: high</td>\n",
       "      <td>NaN</td>\n",
       "      <td>NaN</td>\n",
       "      <td>NaN</td>\n",
       "      <td>NaN</td>\n",
       "      <td>NaN</td>\n",
       "      <td>NaN</td>\n",
       "    </tr>\n",
       "    <tr>\n",
       "      <th>...</th>\n",
       "      <td>...</td>\n",
       "      <td>...</td>\n",
       "      <td>...</td>\n",
       "      <td>...</td>\n",
       "      <td>...</td>\n",
       "      <td>...</td>\n",
       "      <td>...</td>\n",
       "      <td>...</td>\n",
       "      <td>...</td>\n",
       "      <td>...</td>\n",
       "      <td>...</td>\n",
       "      <td>...</td>\n",
       "      <td>...</td>\n",
       "      <td>...</td>\n",
       "      <td>...</td>\n",
       "      <td>...</td>\n",
       "      <td>...</td>\n",
       "      <td>...</td>\n",
       "      <td>...</td>\n",
       "      <td>...</td>\n",
       "      <td>...</td>\n",
       "    </tr>\n",
       "    <tr>\n",
       "      <th>1670209</th>\n",
       "      <td>2300464</td>\n",
       "      <td>352015</td>\n",
       "      <td>Consumer loans</td>\n",
       "      <td>14704.290</td>\n",
       "      <td>267295.5</td>\n",
       "      <td>311400.0</td>\n",
       "      <td>0.0</td>\n",
       "      <td>267295.5</td>\n",
       "      <td>WEDNESDAY</td>\n",
       "      <td>12</td>\n",
       "      <td>...</td>\n",
       "      <td>Furniture</td>\n",
       "      <td>30.0</td>\n",
       "      <td>low_normal</td>\n",
       "      <td>POS industry with interest</td>\n",
       "      <td>365243.0</td>\n",
       "      <td>-508.0</td>\n",
       "      <td>362.0</td>\n",
       "      <td>-358.0</td>\n",
       "      <td>-351.0</td>\n",
       "      <td>0.0</td>\n",
       "    </tr>\n",
       "    <tr>\n",
       "      <th>1670210</th>\n",
       "      <td>2357031</td>\n",
       "      <td>334635</td>\n",
       "      <td>Consumer loans</td>\n",
       "      <td>6622.020</td>\n",
       "      <td>87750.0</td>\n",
       "      <td>64291.5</td>\n",
       "      <td>29250.0</td>\n",
       "      <td>87750.0</td>\n",
       "      <td>TUESDAY</td>\n",
       "      <td>15</td>\n",
       "      <td>...</td>\n",
       "      <td>Furniture</td>\n",
       "      <td>12.0</td>\n",
       "      <td>middle</td>\n",
       "      <td>POS industry with interest</td>\n",
       "      <td>365243.0</td>\n",
       "      <td>-1604.0</td>\n",
       "      <td>-1274.0</td>\n",
       "      <td>-1304.0</td>\n",
       "      <td>-1297.0</td>\n",
       "      <td>0.0</td>\n",
       "    </tr>\n",
       "    <tr>\n",
       "      <th>1670211</th>\n",
       "      <td>2659632</td>\n",
       "      <td>249544</td>\n",
       "      <td>Consumer loans</td>\n",
       "      <td>11520.855</td>\n",
       "      <td>105237.0</td>\n",
       "      <td>102523.5</td>\n",
       "      <td>10525.5</td>\n",
       "      <td>105237.0</td>\n",
       "      <td>MONDAY</td>\n",
       "      <td>12</td>\n",
       "      <td>...</td>\n",
       "      <td>Consumer electronics</td>\n",
       "      <td>10.0</td>\n",
       "      <td>low_normal</td>\n",
       "      <td>POS household with interest</td>\n",
       "      <td>365243.0</td>\n",
       "      <td>-1457.0</td>\n",
       "      <td>-1187.0</td>\n",
       "      <td>-1187.0</td>\n",
       "      <td>-1181.0</td>\n",
       "      <td>0.0</td>\n",
       "    </tr>\n",
       "    <tr>\n",
       "      <th>1670212</th>\n",
       "      <td>2785582</td>\n",
       "      <td>400317</td>\n",
       "      <td>Cash loans</td>\n",
       "      <td>18821.520</td>\n",
       "      <td>180000.0</td>\n",
       "      <td>191880.0</td>\n",
       "      <td>NaN</td>\n",
       "      <td>180000.0</td>\n",
       "      <td>WEDNESDAY</td>\n",
       "      <td>9</td>\n",
       "      <td>...</td>\n",
       "      <td>XNA</td>\n",
       "      <td>12.0</td>\n",
       "      <td>low_normal</td>\n",
       "      <td>Cash X-Sell: low</td>\n",
       "      <td>365243.0</td>\n",
       "      <td>-1155.0</td>\n",
       "      <td>-825.0</td>\n",
       "      <td>-825.0</td>\n",
       "      <td>-817.0</td>\n",
       "      <td>1.0</td>\n",
       "    </tr>\n",
       "    <tr>\n",
       "      <th>1670213</th>\n",
       "      <td>2418762</td>\n",
       "      <td>261212</td>\n",
       "      <td>Cash loans</td>\n",
       "      <td>16431.300</td>\n",
       "      <td>360000.0</td>\n",
       "      <td>360000.0</td>\n",
       "      <td>NaN</td>\n",
       "      <td>360000.0</td>\n",
       "      <td>SUNDAY</td>\n",
       "      <td>10</td>\n",
       "      <td>...</td>\n",
       "      <td>XNA</td>\n",
       "      <td>48.0</td>\n",
       "      <td>middle</td>\n",
       "      <td>Cash X-Sell: middle</td>\n",
       "      <td>365243.0</td>\n",
       "      <td>-1163.0</td>\n",
       "      <td>247.0</td>\n",
       "      <td>-443.0</td>\n",
       "      <td>-423.0</td>\n",
       "      <td>0.0</td>\n",
       "    </tr>\n",
       "  </tbody>\n",
       "</table>\n",
       "<p>1670214 rows × 37 columns</p>\n",
       "</div>"
      ],
      "text/plain": [
       "         SK_ID_PREV  SK_ID_CURR NAME_CONTRACT_TYPE  AMT_ANNUITY  \\\n",
       "0           2030495      271877     Consumer loans     1730.430   \n",
       "1           2802425      108129         Cash loans    25188.615   \n",
       "2           2523466      122040         Cash loans    15060.735   \n",
       "3           2819243      176158         Cash loans    47041.335   \n",
       "4           1784265      202054         Cash loans    31924.395   \n",
       "...             ...         ...                ...          ...   \n",
       "1670209     2300464      352015     Consumer loans    14704.290   \n",
       "1670210     2357031      334635     Consumer loans     6622.020   \n",
       "1670211     2659632      249544     Consumer loans    11520.855   \n",
       "1670212     2785582      400317         Cash loans    18821.520   \n",
       "1670213     2418762      261212         Cash loans    16431.300   \n",
       "\n",
       "         AMT_APPLICATION  AMT_CREDIT  AMT_DOWN_PAYMENT  AMT_GOODS_PRICE  \\\n",
       "0                17145.0     17145.0               0.0          17145.0   \n",
       "1               607500.0    679671.0               NaN         607500.0   \n",
       "2               112500.0    136444.5               NaN         112500.0   \n",
       "3               450000.0    470790.0               NaN         450000.0   \n",
       "4               337500.0    404055.0               NaN         337500.0   \n",
       "...                  ...         ...               ...              ...   \n",
       "1670209         267295.5    311400.0               0.0         267295.5   \n",
       "1670210          87750.0     64291.5           29250.0          87750.0   \n",
       "1670211         105237.0    102523.5           10525.5         105237.0   \n",
       "1670212         180000.0    191880.0               NaN         180000.0   \n",
       "1670213         360000.0    360000.0               NaN         360000.0   \n",
       "\n",
       "        WEEKDAY_APPR_PROCESS_START  HOUR_APPR_PROCESS_START  ...  \\\n",
       "0                         SATURDAY                       15  ...   \n",
       "1                         THURSDAY                       11  ...   \n",
       "2                          TUESDAY                       11  ...   \n",
       "3                           MONDAY                        7  ...   \n",
       "4                         THURSDAY                        9  ...   \n",
       "...                            ...                      ...  ...   \n",
       "1670209                  WEDNESDAY                       12  ...   \n",
       "1670210                    TUESDAY                       15  ...   \n",
       "1670211                     MONDAY                       12  ...   \n",
       "1670212                  WEDNESDAY                        9  ...   \n",
       "1670213                     SUNDAY                       10  ...   \n",
       "\n",
       "         NAME_SELLER_INDUSTRY  CNT_PAYMENT  NAME_YIELD_GROUP  \\\n",
       "0                Connectivity         12.0            middle   \n",
       "1                         XNA         36.0        low_action   \n",
       "2                         XNA         12.0              high   \n",
       "3                         XNA         12.0            middle   \n",
       "4                         XNA         24.0              high   \n",
       "...                       ...          ...               ...   \n",
       "1670209             Furniture         30.0        low_normal   \n",
       "1670210             Furniture         12.0            middle   \n",
       "1670211  Consumer electronics         10.0        low_normal   \n",
       "1670212                   XNA         12.0        low_normal   \n",
       "1670213                   XNA         48.0            middle   \n",
       "\n",
       "                 PRODUCT_COMBINATION  DAYS_FIRST_DRAWING DAYS_FIRST_DUE  \\\n",
       "0           POS mobile with interest            365243.0          -42.0   \n",
       "1                   Cash X-Sell: low            365243.0         -134.0   \n",
       "2                  Cash X-Sell: high            365243.0         -271.0   \n",
       "3                Cash X-Sell: middle            365243.0         -482.0   \n",
       "4                  Cash Street: high                 NaN            NaN   \n",
       "...                              ...                 ...            ...   \n",
       "1670209   POS industry with interest            365243.0         -508.0   \n",
       "1670210   POS industry with interest            365243.0        -1604.0   \n",
       "1670211  POS household with interest            365243.0        -1457.0   \n",
       "1670212             Cash X-Sell: low            365243.0        -1155.0   \n",
       "1670213          Cash X-Sell: middle            365243.0        -1163.0   \n",
       "\n",
       "        DAYS_LAST_DUE_1ST_VERSION  DAYS_LAST_DUE DAYS_TERMINATION  \\\n",
       "0                           300.0          -42.0            -37.0   \n",
       "1                           916.0       365243.0         365243.0   \n",
       "2                            59.0       365243.0         365243.0   \n",
       "3                          -152.0         -182.0           -177.0   \n",
       "4                             NaN            NaN              NaN   \n",
       "...                           ...            ...              ...   \n",
       "1670209                     362.0         -358.0           -351.0   \n",
       "1670210                   -1274.0        -1304.0          -1297.0   \n",
       "1670211                   -1187.0        -1187.0          -1181.0   \n",
       "1670212                    -825.0         -825.0           -817.0   \n",
       "1670213                     247.0         -443.0           -423.0   \n",
       "\n",
       "        NFLAG_INSURED_ON_APPROVAL  \n",
       "0                             0.0  \n",
       "1                             1.0  \n",
       "2                             1.0  \n",
       "3                             1.0  \n",
       "4                             NaN  \n",
       "...                           ...  \n",
       "1670209                       0.0  \n",
       "1670210                       0.0  \n",
       "1670211                       0.0  \n",
       "1670212                       1.0  \n",
       "1670213                       0.0  \n",
       "\n",
       "[1670214 rows x 37 columns]"
      ]
     },
     "execution_count": 3,
     "metadata": {},
     "output_type": "execute_result"
    }
   ],
   "source": [
    "# load metadata\n",
    "previous_application = pd.read_csv('../input/home-credit-default-risk/previous_application.csv')\n",
    "previous_application"
   ]
  },
  {
   "cell_type": "markdown",
   "id": "8d6b5364",
   "metadata": {
    "papermill": {
     "duration": 0.011715,
     "end_time": "2022-12-29T10:59:57.856394",
     "exception": false,
     "start_time": "2022-12-29T10:59:57.844679",
     "status": "completed"
    },
    "tags": []
   },
   "source": [
    "- # E.D.A"
   ]
  },
  {
   "cell_type": "code",
   "execution_count": 4,
   "id": "a35a6416",
   "metadata": {
    "execution": {
     "iopub.execute_input": "2022-12-29T10:59:57.881800Z",
     "iopub.status.busy": "2022-12-29T10:59:57.880799Z",
     "iopub.status.idle": "2022-12-29T10:59:58.102959Z",
     "shell.execute_reply": "2022-12-29T10:59:58.100851Z"
    },
    "papermill": {
     "duration": 0.238495,
     "end_time": "2022-12-29T10:59:58.106089",
     "exception": false,
     "start_time": "2022-12-29T10:59:57.867594",
     "status": "completed"
    },
    "tags": []
   },
   "outputs": [
    {
     "data": {
      "text/plain": [
       "291057"
      ]
     },
     "execution_count": 4,
     "metadata": {},
     "output_type": "execute_result"
    }
   ],
   "source": [
    "len(application_train[application_train.SK_ID_CURR.isin(previous_application.SK_ID_CURR)])"
   ]
  },
  {
   "cell_type": "code",
   "execution_count": 5,
   "id": "844752f4",
   "metadata": {
    "execution": {
     "iopub.execute_input": "2022-12-29T10:59:58.131073Z",
     "iopub.status.busy": "2022-12-29T10:59:58.130690Z",
     "iopub.status.idle": "2022-12-29T10:59:58.230408Z",
     "shell.execute_reply": "2022-12-29T10:59:58.228496Z"
    },
    "papermill": {
     "duration": 0.115162,
     "end_time": "2022-12-29T10:59:58.233302",
     "exception": false,
     "start_time": "2022-12-29T10:59:58.118140",
     "status": "completed"
    },
    "tags": []
   },
   "outputs": [
    {
     "data": {
      "text/plain": [
       "16454"
      ]
     },
     "execution_count": 5,
     "metadata": {},
     "output_type": "execute_result"
    }
   ],
   "source": [
    "len(application_train[~application_train.SK_ID_CURR.isin(previous_application.SK_ID_CURR)])"
   ]
  },
  {
   "cell_type": "code",
   "execution_count": 6,
   "id": "562bd5d9",
   "metadata": {
    "execution": {
     "iopub.execute_input": "2022-12-29T10:59:58.258500Z",
     "iopub.status.busy": "2022-12-29T10:59:58.258086Z",
     "iopub.status.idle": "2022-12-29T10:59:58.263393Z",
     "shell.execute_reply": "2022-12-29T10:59:58.262459Z"
    },
    "papermill": {
     "duration": 0.020402,
     "end_time": "2022-12-29T10:59:58.265501",
     "exception": false,
     "start_time": "2022-12-29T10:59:58.245099",
     "status": "completed"
    },
    "tags": []
   },
   "outputs": [],
   "source": [
    "# define target and id\n",
    "target = 'TARGET'\n",
    "ID = 'SK_ID_CURR'"
   ]
  },
  {
   "cell_type": "code",
   "execution_count": 7,
   "id": "6134e2a2",
   "metadata": {
    "execution": {
     "iopub.execute_input": "2022-12-29T10:59:58.289437Z",
     "iopub.status.busy": "2022-12-29T10:59:58.289088Z",
     "iopub.status.idle": "2022-12-29T10:59:58.339723Z",
     "shell.execute_reply": "2022-12-29T10:59:58.336973Z"
    },
    "papermill": {
     "duration": 0.06588,
     "end_time": "2022-12-29T10:59:58.342700",
     "exception": false,
     "start_time": "2022-12-29T10:59:58.276820",
     "status": "completed"
    },
    "tags": []
   },
   "outputs": [
    {
     "data": {
      "text/plain": [
       "1"
      ]
     },
     "execution_count": 7,
     "metadata": {},
     "output_type": "execute_result"
    }
   ],
   "source": [
    "# inspect id\n",
    "application_train[ID].value_counts().max()"
   ]
  },
  {
   "cell_type": "code",
   "execution_count": 8,
   "id": "0623fd9b",
   "metadata": {
    "execution": {
     "iopub.execute_input": "2022-12-29T10:59:58.368513Z",
     "iopub.status.busy": "2022-12-29T10:59:58.368010Z",
     "iopub.status.idle": "2022-12-29T10:59:58.431366Z",
     "shell.execute_reply": "2022-12-29T10:59:58.430597Z"
    },
    "papermill": {
     "duration": 0.080638,
     "end_time": "2022-12-29T10:59:58.435138",
     "exception": false,
     "start_time": "2022-12-29T10:59:58.354500",
     "status": "completed"
    },
    "tags": []
   },
   "outputs": [
    {
     "data": {
      "text/plain": [
       "77"
      ]
     },
     "execution_count": 8,
     "metadata": {},
     "output_type": "execute_result"
    }
   ],
   "source": [
    "# inspect id in meta data\n",
    "previous_application[ID].value_counts().max()"
   ]
  },
  {
   "cell_type": "code",
   "execution_count": 9,
   "id": "8f5cfcfb",
   "metadata": {
    "execution": {
     "iopub.execute_input": "2022-12-29T10:59:58.462175Z",
     "iopub.status.busy": "2022-12-29T10:59:58.461442Z",
     "iopub.status.idle": "2022-12-29T11:00:00.261080Z",
     "shell.execute_reply": "2022-12-29T11:00:00.259725Z"
    },
    "papermill": {
     "duration": 1.815082,
     "end_time": "2022-12-29T11:00:00.263329",
     "exception": false,
     "start_time": "2022-12-29T10:59:58.448247",
     "status": "completed"
    },
    "tags": []
   },
   "outputs": [
    {
     "data": {
      "text/html": [
       "<div>\n",
       "<style scoped>\n",
       "    .dataframe tbody tr th:only-of-type {\n",
       "        vertical-align: middle;\n",
       "    }\n",
       "\n",
       "    .dataframe tbody tr th {\n",
       "        vertical-align: top;\n",
       "    }\n",
       "\n",
       "    .dataframe thead th {\n",
       "        text-align: right;\n",
       "    }\n",
       "</style>\n",
       "<table border=\"1\" class=\"dataframe\">\n",
       "  <thead>\n",
       "    <tr style=\"text-align: right;\">\n",
       "      <th></th>\n",
       "      <th>SK_ID_PREV</th>\n",
       "      <th>SK_ID_CURR</th>\n",
       "      <th>AMT_ANNUITY</th>\n",
       "      <th>AMT_APPLICATION</th>\n",
       "      <th>AMT_CREDIT</th>\n",
       "      <th>AMT_DOWN_PAYMENT</th>\n",
       "      <th>AMT_GOODS_PRICE</th>\n",
       "      <th>HOUR_APPR_PROCESS_START</th>\n",
       "      <th>NFLAG_LAST_APPL_IN_DAY</th>\n",
       "      <th>RATE_DOWN_PAYMENT</th>\n",
       "      <th>...</th>\n",
       "      <th>RATE_INTEREST_PRIVILEGED</th>\n",
       "      <th>DAYS_DECISION</th>\n",
       "      <th>SELLERPLACE_AREA</th>\n",
       "      <th>CNT_PAYMENT</th>\n",
       "      <th>DAYS_FIRST_DRAWING</th>\n",
       "      <th>DAYS_FIRST_DUE</th>\n",
       "      <th>DAYS_LAST_DUE_1ST_VERSION</th>\n",
       "      <th>DAYS_LAST_DUE</th>\n",
       "      <th>DAYS_TERMINATION</th>\n",
       "      <th>NFLAG_INSURED_ON_APPROVAL</th>\n",
       "    </tr>\n",
       "  </thead>\n",
       "  <tbody>\n",
       "    <tr>\n",
       "      <th>count</th>\n",
       "      <td>1.670214e+06</td>\n",
       "      <td>1.670214e+06</td>\n",
       "      <td>1.297979e+06</td>\n",
       "      <td>1.670214e+06</td>\n",
       "      <td>1.670213e+06</td>\n",
       "      <td>7.743700e+05</td>\n",
       "      <td>1.284699e+06</td>\n",
       "      <td>1.670214e+06</td>\n",
       "      <td>1.670214e+06</td>\n",
       "      <td>774370.000000</td>\n",
       "      <td>...</td>\n",
       "      <td>5951.000000</td>\n",
       "      <td>1.670214e+06</td>\n",
       "      <td>1.670214e+06</td>\n",
       "      <td>1.297984e+06</td>\n",
       "      <td>997149.000000</td>\n",
       "      <td>997149.000000</td>\n",
       "      <td>997149.000000</td>\n",
       "      <td>997149.000000</td>\n",
       "      <td>997149.000000</td>\n",
       "      <td>997149.000000</td>\n",
       "    </tr>\n",
       "    <tr>\n",
       "      <th>mean</th>\n",
       "      <td>1.923089e+06</td>\n",
       "      <td>2.783572e+05</td>\n",
       "      <td>1.595512e+04</td>\n",
       "      <td>1.752339e+05</td>\n",
       "      <td>1.961140e+05</td>\n",
       "      <td>6.697402e+03</td>\n",
       "      <td>2.278473e+05</td>\n",
       "      <td>1.248418e+01</td>\n",
       "      <td>9.964675e-01</td>\n",
       "      <td>0.079637</td>\n",
       "      <td>...</td>\n",
       "      <td>0.773503</td>\n",
       "      <td>-8.806797e+02</td>\n",
       "      <td>3.139511e+02</td>\n",
       "      <td>1.605408e+01</td>\n",
       "      <td>342209.855039</td>\n",
       "      <td>13826.269337</td>\n",
       "      <td>33767.774054</td>\n",
       "      <td>76582.403064</td>\n",
       "      <td>81992.343838</td>\n",
       "      <td>0.332570</td>\n",
       "    </tr>\n",
       "    <tr>\n",
       "      <th>std</th>\n",
       "      <td>5.325980e+05</td>\n",
       "      <td>1.028148e+05</td>\n",
       "      <td>1.478214e+04</td>\n",
       "      <td>2.927798e+05</td>\n",
       "      <td>3.185746e+05</td>\n",
       "      <td>2.092150e+04</td>\n",
       "      <td>3.153966e+05</td>\n",
       "      <td>3.334028e+00</td>\n",
       "      <td>5.932963e-02</td>\n",
       "      <td>0.107823</td>\n",
       "      <td>...</td>\n",
       "      <td>0.100879</td>\n",
       "      <td>7.790997e+02</td>\n",
       "      <td>7.127443e+03</td>\n",
       "      <td>1.456729e+01</td>\n",
       "      <td>88916.115833</td>\n",
       "      <td>72444.869708</td>\n",
       "      <td>106857.034789</td>\n",
       "      <td>149647.415123</td>\n",
       "      <td>153303.516729</td>\n",
       "      <td>0.471134</td>\n",
       "    </tr>\n",
       "    <tr>\n",
       "      <th>min</th>\n",
       "      <td>1.000001e+06</td>\n",
       "      <td>1.000010e+05</td>\n",
       "      <td>0.000000e+00</td>\n",
       "      <td>0.000000e+00</td>\n",
       "      <td>0.000000e+00</td>\n",
       "      <td>-9.000000e-01</td>\n",
       "      <td>0.000000e+00</td>\n",
       "      <td>0.000000e+00</td>\n",
       "      <td>0.000000e+00</td>\n",
       "      <td>-0.000015</td>\n",
       "      <td>...</td>\n",
       "      <td>0.373150</td>\n",
       "      <td>-2.922000e+03</td>\n",
       "      <td>-1.000000e+00</td>\n",
       "      <td>0.000000e+00</td>\n",
       "      <td>-2922.000000</td>\n",
       "      <td>-2892.000000</td>\n",
       "      <td>-2801.000000</td>\n",
       "      <td>-2889.000000</td>\n",
       "      <td>-2874.000000</td>\n",
       "      <td>0.000000</td>\n",
       "    </tr>\n",
       "    <tr>\n",
       "      <th>25%</th>\n",
       "      <td>1.461857e+06</td>\n",
       "      <td>1.893290e+05</td>\n",
       "      <td>6.321780e+03</td>\n",
       "      <td>1.872000e+04</td>\n",
       "      <td>2.416050e+04</td>\n",
       "      <td>0.000000e+00</td>\n",
       "      <td>5.084100e+04</td>\n",
       "      <td>1.000000e+01</td>\n",
       "      <td>1.000000e+00</td>\n",
       "      <td>0.000000</td>\n",
       "      <td>...</td>\n",
       "      <td>0.715645</td>\n",
       "      <td>-1.300000e+03</td>\n",
       "      <td>-1.000000e+00</td>\n",
       "      <td>6.000000e+00</td>\n",
       "      <td>365243.000000</td>\n",
       "      <td>-1628.000000</td>\n",
       "      <td>-1242.000000</td>\n",
       "      <td>-1314.000000</td>\n",
       "      <td>-1270.000000</td>\n",
       "      <td>0.000000</td>\n",
       "    </tr>\n",
       "    <tr>\n",
       "      <th>50%</th>\n",
       "      <td>1.923110e+06</td>\n",
       "      <td>2.787145e+05</td>\n",
       "      <td>1.125000e+04</td>\n",
       "      <td>7.104600e+04</td>\n",
       "      <td>8.054100e+04</td>\n",
       "      <td>1.638000e+03</td>\n",
       "      <td>1.123200e+05</td>\n",
       "      <td>1.200000e+01</td>\n",
       "      <td>1.000000e+00</td>\n",
       "      <td>0.051605</td>\n",
       "      <td>...</td>\n",
       "      <td>0.835095</td>\n",
       "      <td>-5.810000e+02</td>\n",
       "      <td>3.000000e+00</td>\n",
       "      <td>1.200000e+01</td>\n",
       "      <td>365243.000000</td>\n",
       "      <td>-831.000000</td>\n",
       "      <td>-361.000000</td>\n",
       "      <td>-537.000000</td>\n",
       "      <td>-499.000000</td>\n",
       "      <td>0.000000</td>\n",
       "    </tr>\n",
       "    <tr>\n",
       "      <th>75%</th>\n",
       "      <td>2.384280e+06</td>\n",
       "      <td>3.675140e+05</td>\n",
       "      <td>2.065842e+04</td>\n",
       "      <td>1.803600e+05</td>\n",
       "      <td>2.164185e+05</td>\n",
       "      <td>7.740000e+03</td>\n",
       "      <td>2.340000e+05</td>\n",
       "      <td>1.500000e+01</td>\n",
       "      <td>1.000000e+00</td>\n",
       "      <td>0.108909</td>\n",
       "      <td>...</td>\n",
       "      <td>0.852537</td>\n",
       "      <td>-2.800000e+02</td>\n",
       "      <td>8.200000e+01</td>\n",
       "      <td>2.400000e+01</td>\n",
       "      <td>365243.000000</td>\n",
       "      <td>-411.000000</td>\n",
       "      <td>129.000000</td>\n",
       "      <td>-74.000000</td>\n",
       "      <td>-44.000000</td>\n",
       "      <td>1.000000</td>\n",
       "    </tr>\n",
       "    <tr>\n",
       "      <th>max</th>\n",
       "      <td>2.845382e+06</td>\n",
       "      <td>4.562550e+05</td>\n",
       "      <td>4.180581e+05</td>\n",
       "      <td>6.905160e+06</td>\n",
       "      <td>6.905160e+06</td>\n",
       "      <td>3.060045e+06</td>\n",
       "      <td>6.905160e+06</td>\n",
       "      <td>2.300000e+01</td>\n",
       "      <td>1.000000e+00</td>\n",
       "      <td>1.000000</td>\n",
       "      <td>...</td>\n",
       "      <td>1.000000</td>\n",
       "      <td>-1.000000e+00</td>\n",
       "      <td>4.000000e+06</td>\n",
       "      <td>8.400000e+01</td>\n",
       "      <td>365243.000000</td>\n",
       "      <td>365243.000000</td>\n",
       "      <td>365243.000000</td>\n",
       "      <td>365243.000000</td>\n",
       "      <td>365243.000000</td>\n",
       "      <td>1.000000</td>\n",
       "    </tr>\n",
       "  </tbody>\n",
       "</table>\n",
       "<p>8 rows × 21 columns</p>\n",
       "</div>"
      ],
      "text/plain": [
       "         SK_ID_PREV    SK_ID_CURR   AMT_ANNUITY  AMT_APPLICATION  \\\n",
       "count  1.670214e+06  1.670214e+06  1.297979e+06     1.670214e+06   \n",
       "mean   1.923089e+06  2.783572e+05  1.595512e+04     1.752339e+05   \n",
       "std    5.325980e+05  1.028148e+05  1.478214e+04     2.927798e+05   \n",
       "min    1.000001e+06  1.000010e+05  0.000000e+00     0.000000e+00   \n",
       "25%    1.461857e+06  1.893290e+05  6.321780e+03     1.872000e+04   \n",
       "50%    1.923110e+06  2.787145e+05  1.125000e+04     7.104600e+04   \n",
       "75%    2.384280e+06  3.675140e+05  2.065842e+04     1.803600e+05   \n",
       "max    2.845382e+06  4.562550e+05  4.180581e+05     6.905160e+06   \n",
       "\n",
       "         AMT_CREDIT  AMT_DOWN_PAYMENT  AMT_GOODS_PRICE  \\\n",
       "count  1.670213e+06      7.743700e+05     1.284699e+06   \n",
       "mean   1.961140e+05      6.697402e+03     2.278473e+05   \n",
       "std    3.185746e+05      2.092150e+04     3.153966e+05   \n",
       "min    0.000000e+00     -9.000000e-01     0.000000e+00   \n",
       "25%    2.416050e+04      0.000000e+00     5.084100e+04   \n",
       "50%    8.054100e+04      1.638000e+03     1.123200e+05   \n",
       "75%    2.164185e+05      7.740000e+03     2.340000e+05   \n",
       "max    6.905160e+06      3.060045e+06     6.905160e+06   \n",
       "\n",
       "       HOUR_APPR_PROCESS_START  NFLAG_LAST_APPL_IN_DAY  RATE_DOWN_PAYMENT  \\\n",
       "count             1.670214e+06            1.670214e+06      774370.000000   \n",
       "mean              1.248418e+01            9.964675e-01           0.079637   \n",
       "std               3.334028e+00            5.932963e-02           0.107823   \n",
       "min               0.000000e+00            0.000000e+00          -0.000015   \n",
       "25%               1.000000e+01            1.000000e+00           0.000000   \n",
       "50%               1.200000e+01            1.000000e+00           0.051605   \n",
       "75%               1.500000e+01            1.000000e+00           0.108909   \n",
       "max               2.300000e+01            1.000000e+00           1.000000   \n",
       "\n",
       "       ...  RATE_INTEREST_PRIVILEGED  DAYS_DECISION  SELLERPLACE_AREA  \\\n",
       "count  ...               5951.000000   1.670214e+06      1.670214e+06   \n",
       "mean   ...                  0.773503  -8.806797e+02      3.139511e+02   \n",
       "std    ...                  0.100879   7.790997e+02      7.127443e+03   \n",
       "min    ...                  0.373150  -2.922000e+03     -1.000000e+00   \n",
       "25%    ...                  0.715645  -1.300000e+03     -1.000000e+00   \n",
       "50%    ...                  0.835095  -5.810000e+02      3.000000e+00   \n",
       "75%    ...                  0.852537  -2.800000e+02      8.200000e+01   \n",
       "max    ...                  1.000000  -1.000000e+00      4.000000e+06   \n",
       "\n",
       "        CNT_PAYMENT  DAYS_FIRST_DRAWING  DAYS_FIRST_DUE  \\\n",
       "count  1.297984e+06       997149.000000   997149.000000   \n",
       "mean   1.605408e+01       342209.855039    13826.269337   \n",
       "std    1.456729e+01        88916.115833    72444.869708   \n",
       "min    0.000000e+00        -2922.000000    -2892.000000   \n",
       "25%    6.000000e+00       365243.000000    -1628.000000   \n",
       "50%    1.200000e+01       365243.000000     -831.000000   \n",
       "75%    2.400000e+01       365243.000000     -411.000000   \n",
       "max    8.400000e+01       365243.000000   365243.000000   \n",
       "\n",
       "       DAYS_LAST_DUE_1ST_VERSION  DAYS_LAST_DUE  DAYS_TERMINATION  \\\n",
       "count              997149.000000  997149.000000     997149.000000   \n",
       "mean                33767.774054   76582.403064      81992.343838   \n",
       "std                106857.034789  149647.415123     153303.516729   \n",
       "min                 -2801.000000   -2889.000000      -2874.000000   \n",
       "25%                 -1242.000000   -1314.000000      -1270.000000   \n",
       "50%                  -361.000000    -537.000000       -499.000000   \n",
       "75%                   129.000000     -74.000000        -44.000000   \n",
       "max                365243.000000  365243.000000     365243.000000   \n",
       "\n",
       "       NFLAG_INSURED_ON_APPROVAL  \n",
       "count              997149.000000  \n",
       "mean                    0.332570  \n",
       "std                     0.471134  \n",
       "min                     0.000000  \n",
       "25%                     0.000000  \n",
       "50%                     0.000000  \n",
       "75%                     1.000000  \n",
       "max                     1.000000  \n",
       "\n",
       "[8 rows x 21 columns]"
      ]
     },
     "execution_count": 9,
     "metadata": {},
     "output_type": "execute_result"
    }
   ],
   "source": [
    "# metadata has duplicate ID\n",
    "previous_application.describe()"
   ]
  },
  {
   "cell_type": "code",
   "execution_count": 10,
   "id": "adc52888",
   "metadata": {
    "execution": {
     "iopub.execute_input": "2022-12-29T11:00:00.297705Z",
     "iopub.status.busy": "2022-12-29T11:00:00.297069Z",
     "iopub.status.idle": "2022-12-29T11:00:00.431107Z",
     "shell.execute_reply": "2022-12-29T11:00:00.425417Z"
    },
    "papermill": {
     "duration": 0.16458,
     "end_time": "2022-12-29T11:00:00.441594",
     "exception": false,
     "start_time": "2022-12-29T11:00:00.277014",
     "status": "completed"
    },
    "tags": []
   },
   "outputs": [
    {
     "data": {
      "text/html": [
       "<div>\n",
       "<style scoped>\n",
       "    .dataframe tbody tr th:only-of-type {\n",
       "        vertical-align: middle;\n",
       "    }\n",
       "\n",
       "    .dataframe tbody tr th {\n",
       "        vertical-align: top;\n",
       "    }\n",
       "\n",
       "    .dataframe thead th {\n",
       "        text-align: right;\n",
       "    }\n",
       "</style>\n",
       "<table border=\"1\" class=\"dataframe\">\n",
       "  <thead>\n",
       "    <tr style=\"text-align: right;\">\n",
       "      <th></th>\n",
       "      <th>SK_ID_PREV</th>\n",
       "      <th>SK_ID_CURR</th>\n",
       "      <th>NAME_CONTRACT_TYPE</th>\n",
       "      <th>AMT_ANNUITY</th>\n",
       "      <th>AMT_APPLICATION</th>\n",
       "      <th>AMT_CREDIT</th>\n",
       "      <th>AMT_DOWN_PAYMENT</th>\n",
       "      <th>AMT_GOODS_PRICE</th>\n",
       "      <th>WEEKDAY_APPR_PROCESS_START</th>\n",
       "      <th>HOUR_APPR_PROCESS_START</th>\n",
       "      <th>...</th>\n",
       "      <th>NAME_SELLER_INDUSTRY</th>\n",
       "      <th>CNT_PAYMENT</th>\n",
       "      <th>NAME_YIELD_GROUP</th>\n",
       "      <th>PRODUCT_COMBINATION</th>\n",
       "      <th>DAYS_FIRST_DRAWING</th>\n",
       "      <th>DAYS_FIRST_DUE</th>\n",
       "      <th>DAYS_LAST_DUE_1ST_VERSION</th>\n",
       "      <th>DAYS_LAST_DUE</th>\n",
       "      <th>DAYS_TERMINATION</th>\n",
       "      <th>NFLAG_INSURED_ON_APPROVAL</th>\n",
       "    </tr>\n",
       "  </thead>\n",
       "  <tbody>\n",
       "    <tr>\n",
       "      <th>37305</th>\n",
       "      <td>1703693</td>\n",
       "      <td>187868</td>\n",
       "      <td>Cash loans</td>\n",
       "      <td>NaN</td>\n",
       "      <td>0.0</td>\n",
       "      <td>0.0</td>\n",
       "      <td>NaN</td>\n",
       "      <td>NaN</td>\n",
       "      <td>WEDNESDAY</td>\n",
       "      <td>2</td>\n",
       "      <td>...</td>\n",
       "      <td>XNA</td>\n",
       "      <td>NaN</td>\n",
       "      <td>XNA</td>\n",
       "      <td>Cash</td>\n",
       "      <td>NaN</td>\n",
       "      <td>NaN</td>\n",
       "      <td>NaN</td>\n",
       "      <td>NaN</td>\n",
       "      <td>NaN</td>\n",
       "      <td>NaN</td>\n",
       "    </tr>\n",
       "    <tr>\n",
       "      <th>56117</th>\n",
       "      <td>1677569</td>\n",
       "      <td>187868</td>\n",
       "      <td>Cash loans</td>\n",
       "      <td>NaN</td>\n",
       "      <td>0.0</td>\n",
       "      <td>0.0</td>\n",
       "      <td>NaN</td>\n",
       "      <td>NaN</td>\n",
       "      <td>SATURDAY</td>\n",
       "      <td>9</td>\n",
       "      <td>...</td>\n",
       "      <td>XNA</td>\n",
       "      <td>NaN</td>\n",
       "      <td>XNA</td>\n",
       "      <td>Cash</td>\n",
       "      <td>NaN</td>\n",
       "      <td>NaN</td>\n",
       "      <td>NaN</td>\n",
       "      <td>NaN</td>\n",
       "      <td>NaN</td>\n",
       "      <td>NaN</td>\n",
       "    </tr>\n",
       "    <tr>\n",
       "      <th>67781</th>\n",
       "      <td>1651393</td>\n",
       "      <td>187868</td>\n",
       "      <td>Cash loans</td>\n",
       "      <td>NaN</td>\n",
       "      <td>0.0</td>\n",
       "      <td>0.0</td>\n",
       "      <td>NaN</td>\n",
       "      <td>NaN</td>\n",
       "      <td>SATURDAY</td>\n",
       "      <td>7</td>\n",
       "      <td>...</td>\n",
       "      <td>XNA</td>\n",
       "      <td>NaN</td>\n",
       "      <td>XNA</td>\n",
       "      <td>Cash</td>\n",
       "      <td>NaN</td>\n",
       "      <td>NaN</td>\n",
       "      <td>NaN</td>\n",
       "      <td>NaN</td>\n",
       "      <td>NaN</td>\n",
       "      <td>NaN</td>\n",
       "    </tr>\n",
       "    <tr>\n",
       "      <th>92787</th>\n",
       "      <td>1173037</td>\n",
       "      <td>187868</td>\n",
       "      <td>Cash loans</td>\n",
       "      <td>NaN</td>\n",
       "      <td>0.0</td>\n",
       "      <td>0.0</td>\n",
       "      <td>NaN</td>\n",
       "      <td>NaN</td>\n",
       "      <td>THURSDAY</td>\n",
       "      <td>9</td>\n",
       "      <td>...</td>\n",
       "      <td>XNA</td>\n",
       "      <td>NaN</td>\n",
       "      <td>XNA</td>\n",
       "      <td>Cash</td>\n",
       "      <td>NaN</td>\n",
       "      <td>NaN</td>\n",
       "      <td>NaN</td>\n",
       "      <td>NaN</td>\n",
       "      <td>NaN</td>\n",
       "      <td>NaN</td>\n",
       "    </tr>\n",
       "    <tr>\n",
       "      <th>170959</th>\n",
       "      <td>2636986</td>\n",
       "      <td>187868</td>\n",
       "      <td>Cash loans</td>\n",
       "      <td>NaN</td>\n",
       "      <td>0.0</td>\n",
       "      <td>0.0</td>\n",
       "      <td>NaN</td>\n",
       "      <td>NaN</td>\n",
       "      <td>WEDNESDAY</td>\n",
       "      <td>8</td>\n",
       "      <td>...</td>\n",
       "      <td>XNA</td>\n",
       "      <td>NaN</td>\n",
       "      <td>XNA</td>\n",
       "      <td>Cash</td>\n",
       "      <td>NaN</td>\n",
       "      <td>NaN</td>\n",
       "      <td>NaN</td>\n",
       "      <td>NaN</td>\n",
       "      <td>NaN</td>\n",
       "      <td>NaN</td>\n",
       "    </tr>\n",
       "    <tr>\n",
       "      <th>...</th>\n",
       "      <td>...</td>\n",
       "      <td>...</td>\n",
       "      <td>...</td>\n",
       "      <td>...</td>\n",
       "      <td>...</td>\n",
       "      <td>...</td>\n",
       "      <td>...</td>\n",
       "      <td>...</td>\n",
       "      <td>...</td>\n",
       "      <td>...</td>\n",
       "      <td>...</td>\n",
       "      <td>...</td>\n",
       "      <td>...</td>\n",
       "      <td>...</td>\n",
       "      <td>...</td>\n",
       "      <td>...</td>\n",
       "      <td>...</td>\n",
       "      <td>...</td>\n",
       "      <td>...</td>\n",
       "      <td>...</td>\n",
       "      <td>...</td>\n",
       "    </tr>\n",
       "    <tr>\n",
       "      <th>1552993</th>\n",
       "      <td>2455456</td>\n",
       "      <td>187868</td>\n",
       "      <td>Cash loans</td>\n",
       "      <td>NaN</td>\n",
       "      <td>0.0</td>\n",
       "      <td>0.0</td>\n",
       "      <td>NaN</td>\n",
       "      <td>NaN</td>\n",
       "      <td>MONDAY</td>\n",
       "      <td>6</td>\n",
       "      <td>...</td>\n",
       "      <td>XNA</td>\n",
       "      <td>NaN</td>\n",
       "      <td>XNA</td>\n",
       "      <td>Cash</td>\n",
       "      <td>NaN</td>\n",
       "      <td>NaN</td>\n",
       "      <td>NaN</td>\n",
       "      <td>NaN</td>\n",
       "      <td>NaN</td>\n",
       "      <td>NaN</td>\n",
       "    </tr>\n",
       "    <tr>\n",
       "      <th>1575005</th>\n",
       "      <td>1753307</td>\n",
       "      <td>187868</td>\n",
       "      <td>Cash loans</td>\n",
       "      <td>NaN</td>\n",
       "      <td>0.0</td>\n",
       "      <td>0.0</td>\n",
       "      <td>NaN</td>\n",
       "      <td>NaN</td>\n",
       "      <td>TUESDAY</td>\n",
       "      <td>4</td>\n",
       "      <td>...</td>\n",
       "      <td>XNA</td>\n",
       "      <td>NaN</td>\n",
       "      <td>XNA</td>\n",
       "      <td>Cash</td>\n",
       "      <td>NaN</td>\n",
       "      <td>NaN</td>\n",
       "      <td>NaN</td>\n",
       "      <td>NaN</td>\n",
       "      <td>NaN</td>\n",
       "      <td>NaN</td>\n",
       "    </tr>\n",
       "    <tr>\n",
       "      <th>1581066</th>\n",
       "      <td>1404221</td>\n",
       "      <td>187868</td>\n",
       "      <td>Cash loans</td>\n",
       "      <td>NaN</td>\n",
       "      <td>0.0</td>\n",
       "      <td>0.0</td>\n",
       "      <td>NaN</td>\n",
       "      <td>NaN</td>\n",
       "      <td>FRIDAY</td>\n",
       "      <td>3</td>\n",
       "      <td>...</td>\n",
       "      <td>XNA</td>\n",
       "      <td>NaN</td>\n",
       "      <td>XNA</td>\n",
       "      <td>Cash</td>\n",
       "      <td>NaN</td>\n",
       "      <td>NaN</td>\n",
       "      <td>NaN</td>\n",
       "      <td>NaN</td>\n",
       "      <td>NaN</td>\n",
       "      <td>NaN</td>\n",
       "    </tr>\n",
       "    <tr>\n",
       "      <th>1636755</th>\n",
       "      <td>2515824</td>\n",
       "      <td>187868</td>\n",
       "      <td>Cash loans</td>\n",
       "      <td>NaN</td>\n",
       "      <td>0.0</td>\n",
       "      <td>0.0</td>\n",
       "      <td>NaN</td>\n",
       "      <td>NaN</td>\n",
       "      <td>WEDNESDAY</td>\n",
       "      <td>2</td>\n",
       "      <td>...</td>\n",
       "      <td>XNA</td>\n",
       "      <td>NaN</td>\n",
       "      <td>XNA</td>\n",
       "      <td>Cash</td>\n",
       "      <td>NaN</td>\n",
       "      <td>NaN</td>\n",
       "      <td>NaN</td>\n",
       "      <td>NaN</td>\n",
       "      <td>NaN</td>\n",
       "      <td>NaN</td>\n",
       "    </tr>\n",
       "    <tr>\n",
       "      <th>1668777</th>\n",
       "      <td>2019073</td>\n",
       "      <td>187868</td>\n",
       "      <td>Consumer loans</td>\n",
       "      <td>9675.495</td>\n",
       "      <td>67855.5</td>\n",
       "      <td>33930.0</td>\n",
       "      <td>33925.5</td>\n",
       "      <td>67855.5</td>\n",
       "      <td>FRIDAY</td>\n",
       "      <td>12</td>\n",
       "      <td>...</td>\n",
       "      <td>Connectivity</td>\n",
       "      <td>4.0</td>\n",
       "      <td>high</td>\n",
       "      <td>POS mobile without interest</td>\n",
       "      <td>NaN</td>\n",
       "      <td>NaN</td>\n",
       "      <td>NaN</td>\n",
       "      <td>NaN</td>\n",
       "      <td>NaN</td>\n",
       "      <td>NaN</td>\n",
       "    </tr>\n",
       "  </tbody>\n",
       "</table>\n",
       "<p>77 rows × 37 columns</p>\n",
       "</div>"
      ],
      "text/plain": [
       "         SK_ID_PREV  SK_ID_CURR NAME_CONTRACT_TYPE  AMT_ANNUITY  \\\n",
       "37305       1703693      187868         Cash loans          NaN   \n",
       "56117       1677569      187868         Cash loans          NaN   \n",
       "67781       1651393      187868         Cash loans          NaN   \n",
       "92787       1173037      187868         Cash loans          NaN   \n",
       "170959      2636986      187868         Cash loans          NaN   \n",
       "...             ...         ...                ...          ...   \n",
       "1552993     2455456      187868         Cash loans          NaN   \n",
       "1575005     1753307      187868         Cash loans          NaN   \n",
       "1581066     1404221      187868         Cash loans          NaN   \n",
       "1636755     2515824      187868         Cash loans          NaN   \n",
       "1668777     2019073      187868     Consumer loans     9675.495   \n",
       "\n",
       "         AMT_APPLICATION  AMT_CREDIT  AMT_DOWN_PAYMENT  AMT_GOODS_PRICE  \\\n",
       "37305                0.0         0.0               NaN              NaN   \n",
       "56117                0.0         0.0               NaN              NaN   \n",
       "67781                0.0         0.0               NaN              NaN   \n",
       "92787                0.0         0.0               NaN              NaN   \n",
       "170959               0.0         0.0               NaN              NaN   \n",
       "...                  ...         ...               ...              ...   \n",
       "1552993              0.0         0.0               NaN              NaN   \n",
       "1575005              0.0         0.0               NaN              NaN   \n",
       "1581066              0.0         0.0               NaN              NaN   \n",
       "1636755              0.0         0.0               NaN              NaN   \n",
       "1668777          67855.5     33930.0           33925.5          67855.5   \n",
       "\n",
       "        WEEKDAY_APPR_PROCESS_START  HOUR_APPR_PROCESS_START  ...  \\\n",
       "37305                    WEDNESDAY                        2  ...   \n",
       "56117                     SATURDAY                        9  ...   \n",
       "67781                     SATURDAY                        7  ...   \n",
       "92787                     THURSDAY                        9  ...   \n",
       "170959                   WEDNESDAY                        8  ...   \n",
       "...                            ...                      ...  ...   \n",
       "1552993                     MONDAY                        6  ...   \n",
       "1575005                    TUESDAY                        4  ...   \n",
       "1581066                     FRIDAY                        3  ...   \n",
       "1636755                  WEDNESDAY                        2  ...   \n",
       "1668777                     FRIDAY                       12  ...   \n",
       "\n",
       "        NAME_SELLER_INDUSTRY  CNT_PAYMENT  NAME_YIELD_GROUP  \\\n",
       "37305                    XNA          NaN               XNA   \n",
       "56117                    XNA          NaN               XNA   \n",
       "67781                    XNA          NaN               XNA   \n",
       "92787                    XNA          NaN               XNA   \n",
       "170959                   XNA          NaN               XNA   \n",
       "...                      ...          ...               ...   \n",
       "1552993                  XNA          NaN               XNA   \n",
       "1575005                  XNA          NaN               XNA   \n",
       "1581066                  XNA          NaN               XNA   \n",
       "1636755                  XNA          NaN               XNA   \n",
       "1668777         Connectivity          4.0              high   \n",
       "\n",
       "                 PRODUCT_COMBINATION  DAYS_FIRST_DRAWING DAYS_FIRST_DUE  \\\n",
       "37305                           Cash                 NaN            NaN   \n",
       "56117                           Cash                 NaN            NaN   \n",
       "67781                           Cash                 NaN            NaN   \n",
       "92787                           Cash                 NaN            NaN   \n",
       "170959                          Cash                 NaN            NaN   \n",
       "...                              ...                 ...            ...   \n",
       "1552993                         Cash                 NaN            NaN   \n",
       "1575005                         Cash                 NaN            NaN   \n",
       "1581066                         Cash                 NaN            NaN   \n",
       "1636755                         Cash                 NaN            NaN   \n",
       "1668777  POS mobile without interest                 NaN            NaN   \n",
       "\n",
       "        DAYS_LAST_DUE_1ST_VERSION  DAYS_LAST_DUE DAYS_TERMINATION  \\\n",
       "37305                         NaN            NaN              NaN   \n",
       "56117                         NaN            NaN              NaN   \n",
       "67781                         NaN            NaN              NaN   \n",
       "92787                         NaN            NaN              NaN   \n",
       "170959                        NaN            NaN              NaN   \n",
       "...                           ...            ...              ...   \n",
       "1552993                       NaN            NaN              NaN   \n",
       "1575005                       NaN            NaN              NaN   \n",
       "1581066                       NaN            NaN              NaN   \n",
       "1636755                       NaN            NaN              NaN   \n",
       "1668777                       NaN            NaN              NaN   \n",
       "\n",
       "        NFLAG_INSURED_ON_APPROVAL  \n",
       "37305                         NaN  \n",
       "56117                         NaN  \n",
       "67781                         NaN  \n",
       "92787                         NaN  \n",
       "170959                        NaN  \n",
       "...                           ...  \n",
       "1552993                       NaN  \n",
       "1575005                       NaN  \n",
       "1581066                       NaN  \n",
       "1636755                       NaN  \n",
       "1668777                       NaN  \n",
       "\n",
       "[77 rows x 37 columns]"
      ]
     },
     "execution_count": 10,
     "metadata": {},
     "output_type": "execute_result"
    }
   ],
   "source": [
    "# inspect metadata duplicate rows\n",
    "previous_application[previous_application[ID]==previous_application[ID].value_counts().index[0]]"
   ]
  },
  {
   "cell_type": "code",
   "execution_count": 11,
   "id": "ddd46c85",
   "metadata": {
    "execution": {
     "iopub.execute_input": "2022-12-29T11:00:00.473164Z",
     "iopub.status.busy": "2022-12-29T11:00:00.472663Z",
     "iopub.status.idle": "2022-12-29T11:00:00.482564Z",
     "shell.execute_reply": "2022-12-29T11:00:00.480796Z"
    },
    "papermill": {
     "duration": 0.027399,
     "end_time": "2022-12-29T11:00:00.484826",
     "exception": false,
     "start_time": "2022-12-29T11:00:00.457427",
     "status": "completed"
    },
    "tags": []
   },
   "outputs": [
    {
     "data": {
      "text/plain": [
       "Index(['SK_ID_PREV', 'SK_ID_CURR', 'NAME_CONTRACT_TYPE', 'AMT_ANNUITY',\n",
       "       'AMT_APPLICATION', 'AMT_CREDIT', 'AMT_DOWN_PAYMENT', 'AMT_GOODS_PRICE',\n",
       "       'WEEKDAY_APPR_PROCESS_START', 'HOUR_APPR_PROCESS_START',\n",
       "       'FLAG_LAST_APPL_PER_CONTRACT', 'NFLAG_LAST_APPL_IN_DAY',\n",
       "       'RATE_DOWN_PAYMENT', 'RATE_INTEREST_PRIMARY',\n",
       "       'RATE_INTEREST_PRIVILEGED', 'NAME_CASH_LOAN_PURPOSE',\n",
       "       'NAME_CONTRACT_STATUS', 'DAYS_DECISION', 'NAME_PAYMENT_TYPE',\n",
       "       'CODE_REJECT_REASON', 'NAME_TYPE_SUITE', 'NAME_CLIENT_TYPE',\n",
       "       'NAME_GOODS_CATEGORY', 'NAME_PORTFOLIO', 'NAME_PRODUCT_TYPE',\n",
       "       'CHANNEL_TYPE', 'SELLERPLACE_AREA', 'NAME_SELLER_INDUSTRY',\n",
       "       'CNT_PAYMENT', 'NAME_YIELD_GROUP', 'PRODUCT_COMBINATION',\n",
       "       'DAYS_FIRST_DRAWING', 'DAYS_FIRST_DUE', 'DAYS_LAST_DUE_1ST_VERSION',\n",
       "       'DAYS_LAST_DUE', 'DAYS_TERMINATION', 'NFLAG_INSURED_ON_APPROVAL'],\n",
       "      dtype='object')"
      ]
     },
     "execution_count": 11,
     "metadata": {},
     "output_type": "execute_result"
    }
   ],
   "source": [
    "previous_application.columns"
   ]
  },
  {
   "cell_type": "markdown",
   "id": "12746639",
   "metadata": {
    "papermill": {
     "duration": 0.01245,
     "end_time": "2022-12-29T11:00:00.510859",
     "exception": false,
     "start_time": "2022-12-29T11:00:00.498409",
     "status": "completed"
    },
    "tags": []
   },
   "source": [
    "- # Feature Engineering"
   ]
  },
  {
   "cell_type": "code",
   "execution_count": 12,
   "id": "797af3f4",
   "metadata": {
    "execution": {
     "iopub.execute_input": "2022-12-29T11:00:00.538550Z",
     "iopub.status.busy": "2022-12-29T11:00:00.537668Z",
     "iopub.status.idle": "2022-12-29T11:00:00.546006Z",
     "shell.execute_reply": "2022-12-29T11:00:00.544437Z"
    },
    "papermill": {
     "duration": 0.025789,
     "end_time": "2022-12-29T11:00:00.549094",
     "exception": false,
     "start_time": "2022-12-29T11:00:00.523305",
     "status": "completed"
    },
    "tags": []
   },
   "outputs": [
    {
     "data": {
      "text/plain": [
       "16"
      ]
     },
     "execution_count": 12,
     "metadata": {},
     "output_type": "execute_result"
    }
   ],
   "source": [
    "# Convert Categorical columns to dummies\n",
    "previous_cat_cols = list(previous_application.columns[previous_application.dtypes=='object'])\n",
    "len(previous_cat_cols)"
   ]
  },
  {
   "cell_type": "code",
   "execution_count": 13,
   "id": "c9a8e567",
   "metadata": {
    "execution": {
     "iopub.execute_input": "2022-12-29T11:00:00.580703Z",
     "iopub.status.busy": "2022-12-29T11:00:00.579872Z",
     "iopub.status.idle": "2022-12-29T11:00:02.261597Z",
     "shell.execute_reply": "2022-12-29T11:00:02.259405Z"
    },
    "papermill": {
     "duration": 1.699182,
     "end_time": "2022-12-29T11:00:02.263937",
     "exception": false,
     "start_time": "2022-12-29T11:00:00.564755",
     "status": "completed"
    },
    "tags": []
   },
   "outputs": [
    {
     "name": "stdout",
     "output_type": "stream",
     "text": [
      "NAME_CONTRACT_TYPE 4\n",
      "WEEKDAY_APPR_PROCESS_START 7\n",
      "FLAG_LAST_APPL_PER_CONTRACT 2\n",
      "NAME_CASH_LOAN_PURPOSE 25\n",
      "NAME_CONTRACT_STATUS 4\n",
      "NAME_PAYMENT_TYPE 4\n",
      "CODE_REJECT_REASON 9\n",
      "NAME_TYPE_SUITE 7\n",
      "NAME_CLIENT_TYPE 4\n",
      "NAME_GOODS_CATEGORY 28\n",
      "NAME_PORTFOLIO 5\n",
      "NAME_PRODUCT_TYPE 3\n",
      "CHANNEL_TYPE 8\n",
      "NAME_SELLER_INDUSTRY 11\n",
      "NAME_YIELD_GROUP 5\n",
      "PRODUCT_COMBINATION 17\n"
     ]
    }
   ],
   "source": [
    "for col in previous_cat_cols:\n",
    "    print(col,previous_application[col].nunique())"
   ]
  },
  {
   "cell_type": "code",
   "execution_count": 14,
   "id": "7155bd36",
   "metadata": {
    "execution": {
     "iopub.execute_input": "2022-12-29T11:00:02.302950Z",
     "iopub.status.busy": "2022-12-29T11:00:02.301870Z",
     "iopub.status.idle": "2022-12-29T11:00:06.150073Z",
     "shell.execute_reply": "2022-12-29T11:00:06.148882Z"
    },
    "papermill": {
     "duration": 3.871487,
     "end_time": "2022-12-29T11:00:06.153489",
     "exception": false,
     "start_time": "2022-12-29T11:00:02.282002",
     "status": "completed"
    },
    "tags": []
   },
   "outputs": [],
   "source": [
    "previous_application = pd.get_dummies(previous_application,columns=previous_cat_cols)"
   ]
  },
  {
   "cell_type": "code",
   "execution_count": 15,
   "id": "1927d4c4",
   "metadata": {
    "execution": {
     "iopub.execute_input": "2022-12-29T11:00:06.183406Z",
     "iopub.status.busy": "2022-12-29T11:00:06.182781Z",
     "iopub.status.idle": "2022-12-29T11:00:06.456386Z",
     "shell.execute_reply": "2022-12-29T11:00:06.454201Z"
    },
    "papermill": {
     "duration": 0.294087,
     "end_time": "2022-12-29T11:00:06.461284",
     "exception": false,
     "start_time": "2022-12-29T11:00:06.167197",
     "status": "completed"
    },
    "tags": []
   },
   "outputs": [
    {
     "data": {
      "text/plain": [
       "162"
      ]
     },
     "execution_count": 15,
     "metadata": {},
     "output_type": "execute_result"
    }
   ],
   "source": [
    "\n",
    "previous_num_cols = list(previous_application.head(1).describe().columns)\n",
    "previous_num_cols.remove('SK_ID_PREV')\n",
    "previous_num_cols.remove('SK_ID_CURR')\n",
    "\n",
    "len(previous_num_cols)"
   ]
  },
  {
   "cell_type": "code",
   "execution_count": 16,
   "id": "e973d359",
   "metadata": {
    "execution": {
     "iopub.execute_input": "2022-12-29T11:00:06.493136Z",
     "iopub.status.busy": "2022-12-29T11:00:06.491820Z",
     "iopub.status.idle": "2022-12-29T11:00:07.072413Z",
     "shell.execute_reply": "2022-12-29T11:00:07.070973Z"
    },
    "papermill": {
     "duration": 0.597871,
     "end_time": "2022-12-29T11:00:07.075066",
     "exception": false,
     "start_time": "2022-12-29T11:00:06.477195",
     "status": "completed"
    },
    "tags": []
   },
   "outputs": [],
   "source": [
    "# drop previous id from meta data\n",
    "previous_application.drop('SK_ID_PREV',axis=1,inplace=True)\n"
   ]
  },
  {
   "cell_type": "markdown",
   "id": "a0706312",
   "metadata": {
    "papermill": {
     "duration": 0.012883,
     "end_time": "2022-12-29T11:00:07.100949",
     "exception": false,
     "start_time": "2022-12-29T11:00:07.088066",
     "status": "completed"
    },
    "tags": []
   },
   "source": [
    "- # Cross Validation"
   ]
  },
  {
   "cell_type": "code",
   "execution_count": 17,
   "id": "d88725e5",
   "metadata": {
    "execution": {
     "iopub.execute_input": "2022-12-29T11:00:07.131991Z",
     "iopub.status.busy": "2022-12-29T11:00:07.131036Z",
     "iopub.status.idle": "2022-12-29T11:00:08.244649Z",
     "shell.execute_reply": "2022-12-29T11:00:08.242847Z"
    },
    "papermill": {
     "duration": 1.133035,
     "end_time": "2022-12-29T11:00:08.247717",
     "exception": false,
     "start_time": "2022-12-29T11:00:07.114682",
     "status": "completed"
    },
    "tags": []
   },
   "outputs": [],
   "source": [
    "from sklearn.model_selection import train_test_split"
   ]
  },
  {
   "cell_type": "code",
   "execution_count": 18,
   "id": "23ad9c18",
   "metadata": {
    "execution": {
     "iopub.execute_input": "2022-12-29T11:00:08.280942Z",
     "iopub.status.busy": "2022-12-29T11:00:08.280560Z",
     "iopub.status.idle": "2022-12-29T11:00:09.319369Z",
     "shell.execute_reply": "2022-12-29T11:00:09.315170Z"
    },
    "papermill": {
     "duration": 1.058666,
     "end_time": "2022-12-29T11:00:09.323558",
     "exception": false,
     "start_time": "2022-12-29T11:00:08.264892",
     "status": "completed"
    },
    "tags": []
   },
   "outputs": [
    {
     "name": "stdout",
     "output_type": "stream",
     "text": [
      "206032 101479\n"
     ]
    }
   ],
   "source": [
    "# split data into training and validation set\n",
    "train_data, validation_data = train_test_split(application_train, test_size=0.33, stratify=application_train.TARGET, random_state=42)\n",
    "print(len(train_data), len(validation_data))"
   ]
  },
  {
   "cell_type": "code",
   "execution_count": 19,
   "id": "c87f8523",
   "metadata": {
    "execution": {
     "iopub.execute_input": "2022-12-29T11:00:09.354675Z",
     "iopub.status.busy": "2022-12-29T11:00:09.353877Z",
     "iopub.status.idle": "2022-12-29T11:00:09.358639Z",
     "shell.execute_reply": "2022-12-29T11:00:09.357429Z"
    },
    "papermill": {
     "duration": 0.023245,
     "end_time": "2022-12-29T11:00:09.360898",
     "exception": false,
     "start_time": "2022-12-29T11:00:09.337653",
     "status": "completed"
    },
    "tags": []
   },
   "outputs": [],
   "source": [
    "# save memory, delete old data\n",
    "del application_train"
   ]
  },
  {
   "cell_type": "code",
   "execution_count": 20,
   "id": "93b9db03",
   "metadata": {
    "execution": {
     "iopub.execute_input": "2022-12-29T11:00:09.398033Z",
     "iopub.status.busy": "2022-12-29T11:00:09.397099Z",
     "iopub.status.idle": "2022-12-29T11:00:09.405582Z",
     "shell.execute_reply": "2022-12-29T11:00:09.404558Z"
    },
    "papermill": {
     "duration": 0.031947,
     "end_time": "2022-12-29T11:00:09.407788",
     "exception": false,
     "start_time": "2022-12-29T11:00:09.375841",
     "status": "completed"
    },
    "tags": []
   },
   "outputs": [
    {
     "data": {
      "text/plain": [
       "16"
      ]
     },
     "execution_count": 20,
     "metadata": {},
     "output_type": "execute_result"
    }
   ],
   "source": [
    "# Extract Categorical columns\n",
    "cat_cols = list(train_data.columns[train_data.dtypes=='object'])\n",
    "len(cat_cols)"
   ]
  },
  {
   "cell_type": "code",
   "execution_count": 21,
   "id": "25049468",
   "metadata": {
    "execution": {
     "iopub.execute_input": "2022-12-29T11:00:09.438706Z",
     "iopub.status.busy": "2022-12-29T11:00:09.438095Z",
     "iopub.status.idle": "2022-12-29T11:00:10.420157Z",
     "shell.execute_reply": "2022-12-29T11:00:10.419493Z"
    },
    "papermill": {
     "duration": 0.999929,
     "end_time": "2022-12-29T11:00:10.421891",
     "exception": false,
     "start_time": "2022-12-29T11:00:09.421962",
     "status": "completed"
    },
    "tags": []
   },
   "outputs": [
    {
     "data": {
      "text/plain": [
       "106"
      ]
     },
     "execution_count": 21,
     "metadata": {},
     "output_type": "execute_result"
    }
   ],
   "source": [
    "# Extract numeric columns\n",
    "num_cols = list(train_data.describe().head(1).columns)\n",
    "len(num_cols)"
   ]
  },
  {
   "cell_type": "code",
   "execution_count": 22,
   "id": "d3f8ccb9",
   "metadata": {
    "execution": {
     "iopub.execute_input": "2022-12-29T11:00:10.454314Z",
     "iopub.status.busy": "2022-12-29T11:00:10.453494Z",
     "iopub.status.idle": "2022-12-29T11:00:10.460482Z",
     "shell.execute_reply": "2022-12-29T11:00:10.458829Z"
    },
    "papermill": {
     "duration": 0.026423,
     "end_time": "2022-12-29T11:00:10.463687",
     "exception": false,
     "start_time": "2022-12-29T11:00:10.437264",
     "status": "completed"
    },
    "tags": []
   },
   "outputs": [
    {
     "data": {
      "text/plain": [
       "True"
      ]
     },
     "execution_count": 22,
     "metadata": {},
     "output_type": "execute_result"
    }
   ],
   "source": [
    "# check if target is in num_cols\n",
    "# if it is, delete it because we will be using num_cols for model training\n",
    "target in num_cols"
   ]
  },
  {
   "cell_type": "code",
   "execution_count": 23,
   "id": "386db73f",
   "metadata": {
    "execution": {
     "iopub.execute_input": "2022-12-29T11:00:10.496627Z",
     "iopub.status.busy": "2022-12-29T11:00:10.496112Z",
     "iopub.status.idle": "2022-12-29T11:00:10.501313Z",
     "shell.execute_reply": "2022-12-29T11:00:10.500334Z"
    },
    "papermill": {
     "duration": 0.023653,
     "end_time": "2022-12-29T11:00:10.503290",
     "exception": false,
     "start_time": "2022-12-29T11:00:10.479637",
     "status": "completed"
    },
    "tags": []
   },
   "outputs": [],
   "source": [
    "num_cols.remove(target)"
   ]
  },
  {
   "cell_type": "code",
   "execution_count": 24,
   "id": "cc261cef",
   "metadata": {
    "execution": {
     "iopub.execute_input": "2022-12-29T11:00:10.533241Z",
     "iopub.status.busy": "2022-12-29T11:00:10.532700Z",
     "iopub.status.idle": "2022-12-29T11:00:10.539445Z",
     "shell.execute_reply": "2022-12-29T11:00:10.538572Z"
    },
    "papermill": {
     "duration": 0.024164,
     "end_time": "2022-12-29T11:00:10.541290",
     "exception": false,
     "start_time": "2022-12-29T11:00:10.517126",
     "status": "completed"
    },
    "tags": []
   },
   "outputs": [
    {
     "data": {
      "text/plain": [
       "True"
      ]
     },
     "execution_count": 24,
     "metadata": {},
     "output_type": "execute_result"
    }
   ],
   "source": [
    "# check if id is in num_cols\n",
    "# if it is, delete it because we will be using num_cols for model training\n",
    "ID in num_cols"
   ]
  },
  {
   "cell_type": "code",
   "execution_count": 25,
   "id": "10cd0edc",
   "metadata": {
    "execution": {
     "iopub.execute_input": "2022-12-29T11:00:10.582510Z",
     "iopub.status.busy": "2022-12-29T11:00:10.581860Z",
     "iopub.status.idle": "2022-12-29T11:00:10.588174Z",
     "shell.execute_reply": "2022-12-29T11:00:10.586716Z"
    },
    "papermill": {
     "duration": 0.031523,
     "end_time": "2022-12-29T11:00:10.590213",
     "exception": false,
     "start_time": "2022-12-29T11:00:10.558690",
     "status": "completed"
    },
    "tags": []
   },
   "outputs": [],
   "source": [
    "num_cols.remove(ID)"
   ]
  },
  {
   "cell_type": "code",
   "execution_count": 26,
   "id": "b16cacbb",
   "metadata": {
    "execution": {
     "iopub.execute_input": "2022-12-29T11:00:10.621120Z",
     "iopub.status.busy": "2022-12-29T11:00:10.619886Z",
     "iopub.status.idle": "2022-12-29T11:00:10.626083Z",
     "shell.execute_reply": "2022-12-29T11:00:10.625460Z"
    },
    "papermill": {
     "duration": 0.023028,
     "end_time": "2022-12-29T11:00:10.627735",
     "exception": false,
     "start_time": "2022-12-29T11:00:10.604707",
     "status": "completed"
    },
    "tags": []
   },
   "outputs": [
    {
     "data": {
      "text/plain": [
       "104"
      ]
     },
     "execution_count": 26,
     "metadata": {},
     "output_type": "execute_result"
    }
   ],
   "source": [
    "len(num_cols)"
   ]
  },
  {
   "cell_type": "markdown",
   "id": "0ef808c8",
   "metadata": {
    "papermill": {
     "duration": 0.013981,
     "end_time": "2022-12-29T11:00:10.656016",
     "exception": false,
     "start_time": "2022-12-29T11:00:10.642035",
     "status": "completed"
    },
    "tags": []
   },
   "source": [
    "- # Model Training and Evaluation"
   ]
  },
  {
   "cell_type": "code",
   "execution_count": 27,
   "id": "d63c5a29",
   "metadata": {
    "execution": {
     "iopub.execute_input": "2022-12-29T11:00:10.691195Z",
     "iopub.status.busy": "2022-12-29T11:00:10.690267Z",
     "iopub.status.idle": "2022-12-29T11:00:11.168084Z",
     "shell.execute_reply": "2022-12-29T11:00:11.166884Z"
    },
    "papermill": {
     "duration": 0.498351,
     "end_time": "2022-12-29T11:00:11.171219",
     "exception": false,
     "start_time": "2022-12-29T11:00:10.672868",
     "status": "completed"
    },
    "tags": []
   },
   "outputs": [],
   "source": [
    "# Use catboost because of categorical features\n",
    "import catboost\n",
    "from catboost import CatBoostClassifier"
   ]
  },
  {
   "cell_type": "code",
   "execution_count": 28,
   "id": "1d36d30d",
   "metadata": {
    "execution": {
     "iopub.execute_input": "2022-12-29T11:00:11.206983Z",
     "iopub.status.busy": "2022-12-29T11:00:11.206212Z",
     "iopub.status.idle": "2022-12-29T11:00:11.210025Z",
     "shell.execute_reply": "2022-12-29T11:00:11.209389Z"
    },
    "papermill": {
     "duration": 0.023384,
     "end_time": "2022-12-29T11:00:11.211896",
     "exception": false,
     "start_time": "2022-12-29T11:00:11.188512",
     "status": "completed"
    },
    "tags": []
   },
   "outputs": [],
   "source": [
    "# use roc_auc_score metric since we are predicting probabilities\n",
    "from sklearn.metrics import roc_auc_score"
   ]
  },
  {
   "cell_type": "markdown",
   "id": "b1332629",
   "metadata": {
    "papermill": {
     "duration": 0.012994,
     "end_time": "2022-12-29T11:00:11.238839",
     "exception": false,
     "start_time": "2022-12-29T11:00:11.225845",
     "status": "completed"
    },
    "tags": []
   },
   "source": [
    "- # Training with only numeric features, fill na with 0"
   ]
  },
  {
   "cell_type": "code",
   "execution_count": 29,
   "id": "497ef905",
   "metadata": {
    "execution": {
     "iopub.execute_input": "2022-12-29T11:00:11.272005Z",
     "iopub.status.busy": "2022-12-29T11:00:11.271208Z",
     "iopub.status.idle": "2022-12-29T11:00:11.281439Z",
     "shell.execute_reply": "2022-12-29T11:00:11.279961Z"
    },
    "papermill": {
     "duration": 0.031852,
     "end_time": "2022-12-29T11:00:11.285757",
     "exception": false,
     "start_time": "2022-12-29T11:00:11.253905",
     "status": "completed"
    },
    "tags": []
   },
   "outputs": [],
   "source": [
    "model = CatBoostClassifier(silent=True,n_estimators=100,cat_features=[])"
   ]
  },
  {
   "cell_type": "code",
   "execution_count": 30,
   "id": "f0194cea",
   "metadata": {
    "execution": {
     "iopub.execute_input": "2022-12-29T11:00:11.322521Z",
     "iopub.status.busy": "2022-12-29T11:00:11.321890Z",
     "iopub.status.idle": "2022-12-29T11:00:18.926050Z",
     "shell.execute_reply": "2022-12-29T11:00:18.924254Z"
    },
    "papermill": {
     "duration": 7.626138,
     "end_time": "2022-12-29T11:00:18.928588",
     "exception": false,
     "start_time": "2022-12-29T11:00:11.302450",
     "status": "completed"
    },
    "tags": []
   },
   "outputs": [
    {
     "name": "stdout",
     "output_type": "stream",
     "text": [
      "0.7431751105522306\n"
     ]
    }
   ],
   "source": [
    "cols = num_cols\n",
    "na_val = 0\n",
    "predictions = model.fit(train_data[cols].fillna(na_val), train_data[target]).predict_proba(validation_data[cols].fillna(na_val))[:,1]\n",
    "print(roc_auc_score(validation_data[target],predictions))"
   ]
  },
  {
   "cell_type": "markdown",
   "id": "4e32ca84",
   "metadata": {
    "papermill": {
     "duration": 0.017125,
     "end_time": "2022-12-29T11:00:18.959463",
     "exception": false,
     "start_time": "2022-12-29T11:00:18.942338",
     "status": "completed"
    },
    "tags": []
   },
   "source": [
    "- # Use both numeric and categorical features"
   ]
  },
  {
   "cell_type": "code",
   "execution_count": 31,
   "id": "7a2b2191",
   "metadata": {
    "execution": {
     "iopub.execute_input": "2022-12-29T11:00:18.996873Z",
     "iopub.status.busy": "2022-12-29T11:00:18.996378Z",
     "iopub.status.idle": "2022-12-29T11:00:19.003177Z",
     "shell.execute_reply": "2022-12-29T11:00:19.001580Z"
    },
    "papermill": {
     "duration": 0.029954,
     "end_time": "2022-12-29T11:00:19.005838",
     "exception": false,
     "start_time": "2022-12-29T11:00:18.975884",
     "status": "completed"
    },
    "tags": []
   },
   "outputs": [],
   "source": [
    "model = CatBoostClassifier(silent=True,n_estimators=100,cat_features=cat_cols)"
   ]
  },
  {
   "cell_type": "code",
   "execution_count": 32,
   "id": "fa8ef310",
   "metadata": {
    "execution": {
     "iopub.execute_input": "2022-12-29T11:00:19.036113Z",
     "iopub.status.busy": "2022-12-29T11:00:19.035727Z",
     "iopub.status.idle": "2022-12-29T11:00:40.014862Z",
     "shell.execute_reply": "2022-12-29T11:00:40.013025Z"
    },
    "papermill": {
     "duration": 20.99696,
     "end_time": "2022-12-29T11:00:40.017942",
     "exception": false,
     "start_time": "2022-12-29T11:00:19.020982",
     "status": "completed"
    },
    "tags": []
   },
   "outputs": [
    {
     "name": "stdout",
     "output_type": "stream",
     "text": [
      "0.7511365125964597\n"
     ]
    }
   ],
   "source": [
    "cols = cat_cols + num_cols\n",
    "predictions = model.fit(train_data[cols].fillna(na_val), train_data[target]).predict_proba(validation_data[cols].fillna(na_val))[:,1]\n",
    "print(roc_auc_score(validation_data[target],predictions))"
   ]
  },
  {
   "cell_type": "markdown",
   "id": "3ade2d78",
   "metadata": {
    "papermill": {
     "duration": 0.014027,
     "end_time": "2022-12-29T11:00:40.046590",
     "exception": false,
     "start_time": "2022-12-29T11:00:40.032563",
     "status": "completed"
    },
    "tags": []
   },
   "source": [
    "- # Feature Engineering"
   ]
  },
  {
   "cell_type": "code",
   "execution_count": 33,
   "id": "f12afc2d",
   "metadata": {
    "execution": {
     "iopub.execute_input": "2022-12-29T11:00:40.077370Z",
     "iopub.status.busy": "2022-12-29T11:00:40.076886Z",
     "iopub.status.idle": "2022-12-29T11:00:40.084833Z",
     "shell.execute_reply": "2022-12-29T11:00:40.083300Z"
    },
    "papermill": {
     "duration": 0.02689,
     "end_time": "2022-12-29T11:00:40.087975",
     "exception": false,
     "start_time": "2022-12-29T11:00:40.061085",
     "status": "completed"
    },
    "tags": []
   },
   "outputs": [],
   "source": [
    "# introduce mean previous loans from our metadata \n",
    "def preprocess_data_mean(data):\n",
    "    previous_application_modified = previous_application.groupby(ID).mean().add_suffix('_mean').reset_index()\n",
    "    preprocessed_data = pd.merge(data, previous_application_modified, on=ID, how='left')\n",
    "    num_cols = list(preprocessed_data.describe().head(1).columns)\n",
    "    num_cols.remove(target)\n",
    "    cat_cols = list(preprocessed_data.columns[preprocessed_data.dtypes=='object'])\n",
    "    new_cols = num_cols+cat_cols\n",
    "    print(len(new_cols),new_cols[0],new_cols[-1])\n",
    "    return preprocessed_data, new_cols"
   ]
  },
  {
   "cell_type": "code",
   "execution_count": 34,
   "id": "2b8de583",
   "metadata": {
    "execution": {
     "iopub.execute_input": "2022-12-29T11:00:40.124064Z",
     "iopub.status.busy": "2022-12-29T11:00:40.123596Z",
     "iopub.status.idle": "2022-12-29T11:01:03.011770Z",
     "shell.execute_reply": "2022-12-29T11:01:03.009892Z"
    },
    "papermill": {
     "duration": 22.908638,
     "end_time": "2022-12-29T11:01:03.014179",
     "exception": false,
     "start_time": "2022-12-29T11:00:40.105541",
     "status": "completed"
    },
    "tags": []
   },
   "outputs": [
    {
     "name": "stdout",
     "output_type": "stream",
     "text": [
      "283 SK_ID_CURR EMERGENCYSTATE_MODE\n",
      "283 SK_ID_CURR EMERGENCYSTATE_MODE\n"
     ]
    }
   ],
   "source": [
    "preprocessed_train, cols = preprocess_data_mean(train_data)\n",
    "preprocessed_validation, cols = preprocess_data_mean(validation_data)"
   ]
  },
  {
   "cell_type": "code",
   "execution_count": 35,
   "id": "5836a8f9",
   "metadata": {
    "execution": {
     "iopub.execute_input": "2022-12-29T11:01:03.046482Z",
     "iopub.status.busy": "2022-12-29T11:01:03.046031Z",
     "iopub.status.idle": "2022-12-29T11:01:35.974361Z",
     "shell.execute_reply": "2022-12-29T11:01:35.973440Z"
    },
    "papermill": {
     "duration": 32.960912,
     "end_time": "2022-12-29T11:01:35.989674",
     "exception": false,
     "start_time": "2022-12-29T11:01:03.028762",
     "status": "completed"
    },
    "tags": []
   },
   "outputs": [
    {
     "name": "stdout",
     "output_type": "stream",
     "text": [
      "0.7599520352011803\n"
     ]
    }
   ],
   "source": [
    "predictions = model.fit(preprocessed_train[cols].fillna(na_val), preprocessed_train[target]).predict_proba(preprocessed_validation[cols].fillna(na_val))[:,1]\n",
    "print(roc_auc_score(preprocessed_validation[target],predictions))"
   ]
  },
  {
   "cell_type": "code",
   "execution_count": 36,
   "id": "bdea3914",
   "metadata": {
    "execution": {
     "iopub.execute_input": "2022-12-29T11:01:36.025067Z",
     "iopub.status.busy": "2022-12-29T11:01:36.024034Z",
     "iopub.status.idle": "2022-12-29T11:01:36.038671Z",
     "shell.execute_reply": "2022-12-29T11:01:36.036260Z"
    },
    "papermill": {
     "duration": 0.035941,
     "end_time": "2022-12-29T11:01:36.042030",
     "exception": false,
     "start_time": "2022-12-29T11:01:36.006089",
     "status": "completed"
    },
    "tags": []
   },
   "outputs": [],
   "source": [
    "# introduce sum previous loans from our metadata \n",
    "def preprocess_data_sum(data):\n",
    "    previous_application_modified = previous_application.groupby(ID).sum().add_suffix('_sum').reset_index()\n",
    "    preprocessed_data = pd.merge(data, previous_application_modified, on=ID, how='left')\n",
    "    num_cols = list(preprocessed_data.describe().head(1).columns)\n",
    "    num_cols.remove(target)\n",
    "    cat_cols = list(preprocessed_data.columns[preprocessed_data.dtypes=='object'])\n",
    "    new_cols = num_cols+cat_cols\n",
    "    print(len(new_cols),new_cols[0],new_cols[-1])\n",
    "    return preprocessed_data, new_cols"
   ]
  },
  {
   "cell_type": "code",
   "execution_count": 37,
   "id": "a98aba64",
   "metadata": {
    "execution": {
     "iopub.execute_input": "2022-12-29T11:01:36.078107Z",
     "iopub.status.busy": "2022-12-29T11:01:36.077585Z",
     "iopub.status.idle": "2022-12-29T11:02:01.340580Z",
     "shell.execute_reply": "2022-12-29T11:02:01.339585Z"
    },
    "papermill": {
     "duration": 25.281577,
     "end_time": "2022-12-29T11:02:01.342450",
     "exception": false,
     "start_time": "2022-12-29T11:01:36.060873",
     "status": "completed"
    },
    "tags": []
   },
   "outputs": [
    {
     "name": "stdout",
     "output_type": "stream",
     "text": [
      "283 SK_ID_CURR EMERGENCYSTATE_MODE\n",
      "283 SK_ID_CURR EMERGENCYSTATE_MODE\n"
     ]
    }
   ],
   "source": [
    "preprocessed_train, cols = preprocess_data_sum(train_data)\n",
    "preprocessed_validation, cols = preprocess_data_sum(validation_data)"
   ]
  },
  {
   "cell_type": "code",
   "execution_count": 38,
   "id": "0368e69e",
   "metadata": {
    "execution": {
     "iopub.execute_input": "2022-12-29T11:02:01.385197Z",
     "iopub.status.busy": "2022-12-29T11:02:01.384763Z",
     "iopub.status.idle": "2022-12-29T11:02:32.646408Z",
     "shell.execute_reply": "2022-12-29T11:02:32.644742Z"
    },
    "papermill": {
     "duration": 31.300309,
     "end_time": "2022-12-29T11:02:32.660331",
     "exception": false,
     "start_time": "2022-12-29T11:02:01.360022",
     "status": "completed"
    },
    "tags": []
   },
   "outputs": [
    {
     "name": "stdout",
     "output_type": "stream",
     "text": [
      "0.7618212248390719\n"
     ]
    }
   ],
   "source": [
    "predictions = model.fit(preprocessed_train[cols].fillna(na_val), preprocessed_train[target]).predict_proba(preprocessed_validation[cols].fillna(na_val))[:,1]\n",
    "print(roc_auc_score(preprocessed_validation[target],predictions))"
   ]
  },
  {
   "cell_type": "markdown",
   "id": "2bf484b7",
   "metadata": {
    "papermill": {
     "duration": 0.013538,
     "end_time": "2022-12-29T11:02:32.689122",
     "exception": false,
     "start_time": "2022-12-29T11:02:32.675584",
     "status": "completed"
    },
    "tags": []
   },
   "source": [
    "Further Improvements:\n",
    "1. Hyperparameter Tuning\n",
    "2. Feature Selection"
   ]
  },
  {
   "cell_type": "code",
   "execution_count": null,
   "id": "e86d626a",
   "metadata": {
    "papermill": {
     "duration": 0.013784,
     "end_time": "2022-12-29T11:02:32.717763",
     "exception": false,
     "start_time": "2022-12-29T11:02:32.703979",
     "status": "completed"
    },
    "tags": []
   },
   "outputs": [],
   "source": []
  },
  {
   "cell_type": "code",
   "execution_count": null,
   "id": "90129c68",
   "metadata": {
    "papermill": {
     "duration": 0.013351,
     "end_time": "2022-12-29T11:02:32.746142",
     "exception": false,
     "start_time": "2022-12-29T11:02:32.732791",
     "status": "completed"
    },
    "tags": []
   },
   "outputs": [],
   "source": []
  },
  {
   "cell_type": "code",
   "execution_count": null,
   "id": "55b6afde",
   "metadata": {
    "papermill": {
     "duration": 0.013737,
     "end_time": "2022-12-29T11:02:32.773252",
     "exception": false,
     "start_time": "2022-12-29T11:02:32.759515",
     "status": "completed"
    },
    "tags": []
   },
   "outputs": [],
   "source": []
  },
  {
   "cell_type": "code",
   "execution_count": null,
   "id": "b754e664",
   "metadata": {
    "papermill": {
     "duration": 0.013316,
     "end_time": "2022-12-29T11:02:32.801135",
     "exception": false,
     "start_time": "2022-12-29T11:02:32.787819",
     "status": "completed"
    },
    "tags": []
   },
   "outputs": [],
   "source": []
  },
  {
   "cell_type": "code",
   "execution_count": null,
   "id": "e908b5af",
   "metadata": {
    "papermill": {
     "duration": 0.013652,
     "end_time": "2022-12-29T11:02:32.828469",
     "exception": false,
     "start_time": "2022-12-29T11:02:32.814817",
     "status": "completed"
    },
    "tags": []
   },
   "outputs": [],
   "source": []
  },
  {
   "cell_type": "code",
   "execution_count": null,
   "id": "1d9282ef",
   "metadata": {
    "papermill": {
     "duration": 0.014288,
     "end_time": "2022-12-29T11:02:32.857540",
     "exception": false,
     "start_time": "2022-12-29T11:02:32.843252",
     "status": "completed"
    },
    "tags": []
   },
   "outputs": [],
   "source": []
  }
 ],
 "metadata": {
  "kernelspec": {
   "display_name": "Python 3",
   "language": "python",
   "name": "python3"
  },
  "language_info": {
   "codemirror_mode": {
    "name": "ipython",
    "version": 3
   },
   "file_extension": ".py",
   "mimetype": "text/x-python",
   "name": "python",
   "nbconvert_exporter": "python",
   "pygments_lexer": "ipython3",
   "version": "3.7.12"
  },
  "papermill": {
   "default_parameters": {},
   "duration": 182.381726,
   "end_time": "2022-12-29T11:02:34.200449",
   "environment_variables": {},
   "exception": null,
   "input_path": "__notebook__.ipynb",
   "output_path": "__notebook__.ipynb",
   "parameters": {},
   "start_time": "2022-12-29T10:59:31.818723",
   "version": "2.3.4"
  }
 },
 "nbformat": 4,
 "nbformat_minor": 5
}
